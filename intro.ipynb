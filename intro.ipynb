{
 "cells": [
  {
   "cell_type": "markdown",
   "id": "3ff4ee1c",
   "metadata": {},
   "source": []
  },
  {
   "cell_type": "code",
   "execution_count": 13,
   "id": "fbbd7cc8",
   "metadata": {},
   "outputs": [],
   "source": [
    "from pydantic import BaseModel"
   ]
  },
  {
   "cell_type": "code",
   "execution_count": null,
   "id": "2bc82849",
   "metadata": {},
   "outputs": [
    {
     "name": "stdout",
     "output_type": "stream",
     "text": [
      "id=1 name='John Doe' email='kufh'\n",
      "users=[User(id=1, name='John Doe', email='kufh')]\n",
      "id=2 name='Jane Doe' email=None\n"
     ]
    }
   ],
   "source": [
    "from pydantic import BaseModel\n",
    "from typing import List, Optional\n",
    "\n",
    "# Define the User model\n",
    "class User(BaseModel):\n",
    "    id: int\n",
    "    name: str\n",
    "    email: str\n",
    "\n",
    "# Define the UserList model\n",
    "class UserList(BaseModel):\n",
    "    users: List[User]\n",
    "\n",
    "# Create an instance of User\n",
    "user1 = User(id=1, name=\"John Doe\", email=\"kufh\")\n",
    "print(user1)\n",
    "\n",
    "# Create an instance of UserList with the above user\n",
    "user_list = UserList(users=[user1])\n",
    "print(user_list)\n",
    "\n",
    "# Define a User model with optional email\n",
    "class UserWithOptionalEmail(BaseModel):\n",
    "    id: int\n",
    "    name: str\n",
    "    email: Optional[str] = None\n",
    "\n",
    "# Create an instance with no email\n",
    "user2 = UserWithOptionalEmail(id=2, name=\"Jane Doe\")\n",
    "print(user2)\n"
   ]
  },
  {
   "cell_type": "markdown",
   "id": "dd5b26bc",
   "metadata": {},
   "source": [
    "Optional Fields of Model\n"
   ]
  },
  {
   "cell_type": "code",
   "execution_count": 19,
   "id": "cc56bb60",
   "metadata": {},
   "outputs": [
    {
     "name": "stdout",
     "output_type": "stream",
     "text": [
      "id=2 name='Jane Doe' email=None\n"
     ]
    }
   ],
   "source": [
    "from typing import Optional\n",
    "class UserWithOptionalEmail(BaseModel):\n",
    "    id: int\n",
    "    name: str\n",
    "    email: Optional[str] = None\n",
    "UserWithOptionalEmail = UserWithOptionalEmail(id=2, name=\"Jane Doe\")\n",
    "print(UserWithOptionalEmail)"
   ]
  },
  {
   "cell_type": "code",
   "execution_count": 25,
   "id": "a19489d0",
   "metadata": {},
   "outputs": [
    {
     "name": "stdout",
     "output_type": "stream",
     "text": [
      "id=3 name='Alice Smith' email='dfd'\n"
     ]
    }
   ],
   "source": [
    "#Field \n",
    "\n",
    "from pydantic import Field\n",
    "class UserWithField(BaseModel):\n",
    "    id: int = Field(..., description=\"The unique identifier for the user\")\n",
    "    name: str = Field(..., min_length=1, max_length=100, description=\"The name of the user\")\n",
    "    email: Optional[str] = Field(None, description=\"The email address of the user\")\n",
    "# Create an instance of UserWithField\n",
    "user_with_field = UserWithField(id=3, name=\"Alice Smith\", email=\"dfd\")\n",
    "print(user_with_field)"
   ]
  },
  {
   "cell_type": "code",
   "execution_count": null,
   "id": "487e0296",
   "metadata": {},
   "outputs": [],
   "source": []
  }
 ],
 "metadata": {
  "kernelspec": {
   "display_name": "Python 3",
   "language": "python",
   "name": "python3"
  },
  "language_info": {
   "codemirror_mode": {
    "name": "ipython",
    "version": 3
   },
   "file_extension": ".py",
   "mimetype": "text/x-python",
   "name": "python",
   "nbconvert_exporter": "python",
   "pygments_lexer": "ipython3",
   "version": "3.12.0"
  }
 },
 "nbformat": 4,
 "nbformat_minor": 5
}
