{
 "cells": [
  {
   "cell_type": "code",
   "execution_count": 6,
   "id": "b4b24c40",
   "metadata": {},
   "outputs": [],
   "source": [
    "import os \n",
    "\n",
    "from langchain_community.tools import ArxivQueryRun,WikipediaQueryRun\n",
    "from langchain_community.utilities import ArxivAPIWrapper, WikipediaAPIWrapper\n"
   ]
  },
  {
   "cell_type": "code",
   "execution_count": 10,
   "id": "73518c21",
   "metadata": {},
   "outputs": [
    {
     "name": "stdout",
     "output_type": "stream",
     "text": [
      "arxiv\n"
     ]
    }
   ],
   "source": [
    "api_wrapper_arxiv = ArxivAPIWrapper(top_k_results=2, doc_content_chars_max=500)\n",
    "arxiv = ArxivQueryRun(api_wrapper=api_wrapper_arxiv)\n",
    "print(arxiv.name)"
   ]
  },
  {
   "cell_type": "code",
   "execution_count": 13,
   "id": "6f5d642f",
   "metadata": {},
   "outputs": [
    {
     "data": {
      "text/plain": [
       "\"Published: 2024-07-22\\nTitle: Attention Is All You Need But You Don't Need All Of It For Inference of Large Language Models\\nAuthors: Georgy Tyukin, Gbetondji J-S Dovonon, Jean Kaddour, Pasquale Minervini\\nSummary: The inference demand for LLMs has skyrocketed in recent months, and serving\\nmodels with low latencies remains challenging due to the quadratic input length\\ncomplexity of the attention layers. In this work, we investigate the effect of\\ndropping MLP and attention layers at inference time o\""
      ]
     },
     "execution_count": 13,
     "metadata": {},
     "output_type": "execute_result"
    }
   ],
   "source": [
    "arxiv.invoke(\"Attention is all you need\")"
   ]
  },
  {
   "cell_type": "code",
   "execution_count": 15,
   "id": "fb6e017b",
   "metadata": {},
   "outputs": [
    {
     "data": {
      "text/plain": [
       "'wikipedia'"
      ]
     },
     "execution_count": 15,
     "metadata": {},
     "output_type": "execute_result"
    }
   ],
   "source": [
    "api_wrapper_wiki= WikipediaAPIWrapper(top_k_results=1,doc_content_chars_max=250)\n",
    "wiki= WikipediaQueryRun(api_wrapper=api_wrapper_wiki)\n",
    "wiki.name"
   ]
  },
  {
   "cell_type": "code",
   "execution_count": 16,
   "id": "55bf08c5",
   "metadata": {},
   "outputs": [],
   "source": [
    "from dotenv import load_dotenv\n",
    "load_dotenv()\n",
    "\n",
    "import os\n",
    "os.environ['TAVILY_API_KEY']=os.getenv(\"TAVILY_API_KEY\")\n",
    "os.environ['GROQ_API_KEY']=os.getenv(\"GROQ_API_KEY\")"
   ]
  },
  {
   "cell_type": "code",
   "execution_count": 17,
   "id": "190eea29",
   "metadata": {},
   "outputs": [],
   "source": [
    "from langchain.tools.tavily_search import TavilySearchResults\n",
    "tavily=TavilySearchResults()"
   ]
  },
  {
   "cell_type": "code",
   "execution_count": 18,
   "id": "59815a67",
   "metadata": {},
   "outputs": [
    {
     "data": {
      "text/plain": [
       "[{'title': 'Blog: Jitesh 85* off 33 takes RCB into Qualifer 1 - ESPNcricinfo',\n",
       "  'url': 'https://www.espncricinfo.com/series/ipl-2025-1449924/lucknow-super-giants-vs-royal-challengers-bengaluru-70th-match-1473507/live-match-blog',\n",
       "  'content': \"Edition US\\nRESULT\\n70th Match (N), Lucknow, May 27, 2025, Indian Premier League\\nPrevNext\\nLSG\\n7\\n227/3\\nRCB\\n2\\n(18.4/20 ov, T:228) 230/4\\nRCB won by 6 wickets (with 8 balls remaining)\\nPlayer Of The Match\\nJitesh Sharma\\n, RCB\\n85* (33)\\n \\nCricinfo's MVP\\nJitesh Sharma\\n, RCB\\n114.63 ptsImpact List\\n \\nSummary\\nScorecard\\nMVP\\nReport\\nCommentary\\nStats\\nOvers\\nTable\\nBlog\\nNews\\nVideos\\nPhotos\\nFan Ratings\\nTimeline\\nShowing newest first\\n*   20h ago RCB through to Qualifier 1 [...] The ball seemed to be swinging but Jitesh, instead of going for Bhuvneshwar Kumar, gave the second over to Krunal Pandya. On his third ball, Breetzke cleared his front leg and launched him over long-on.\\nLSG 21/0 after two\\n3\\n1\\n1\\n1\\n27 May 2025, 1:51 pm\\nRCB's away record this season: 6-0 [...] Published Time: 2025-05-27T11:52:00+00:00\\nLive Cricket Update - LSG vs RCB 70th Match - Blog: Jitesh 85* off 33 takes RCB into Qualifer 1\\n===============\\nMatches(7)\\nPAK vs BAN(1)\\nWCL 2(1)\\nWI-A vs SA-A(1)\\nENG vs WI(1)\\nIPL(1)\\nT20 Blast(2)\\nPrevious\\n1st T20I• Lahore  Pakistan  Bangladesh Today 3:00 PM Pakistan chose to bat ScheduleSeries\\nRESULT•72nd Match•WCL 2• ODI• Lauderhill  USA 293/8  OMA (50 ov, T:294) 284/9 U.S.A. won by 9 runs ScheduleTableSeries\",\n",
       "  'score': 0.8524574},\n",
       " {'title': 'LSG vs RCB Highlights (5/27/2025) - Hindustan Times',\n",
       "  'url': 'https://www.hindustantimes.com/cricket/match-result-lsg-vs-rcb-ipl-2025-match-70-lucknow-super-giants-vs-royal-challengers-bengaluru-t20-lkobc05272025260871',\n",
       "  'content': 'LSG vs RCB Highlights (5/27/2025): RCB beat LSG by 6 wickets, LSG vs RCB Full Scorecard. Crickit.',\n",
       "  'score': 0.8455478},\n",
       " {'title': 'LSG vs RCB highlights, IPL 2025: Royal Challengers Bengaluru ...',\n",
       "  'url': 'https://timesofindia.indiatimes.com/sports/cricket/lsg-vs-rcb-today-ipl-2025-match-live-score-lucknow-super-giants-vs-royal-challengers-bengaluru-ekana-cricket-stadium-lucknow/liveblog/121437880.cms',\n",
       "  'content': 'LSG vs RCB highlights, IPL 2025: Royal Challengers Bengaluru beat Lucknow Super Giants, to face Punjab Kings in Qualifier 1 ; 23:38 (IST) May 27.',\n",
       "  'score': 0.8156003},\n",
       " {'title': 'Jitesh 85* trumps Pant 118* as RCB make Qualifier 1 - ESPNcricinfo',\n",
       "  'url': 'https://www.espncricinfo.com/series/ipl-2025-1449924/lucknow-super-giants-vs-royal-challengers-bengaluru-70th-match-1473507/match-report',\n",
       "  'content': 'IPL 2025, LSG vs RCB Match Report: Jitesh added an unbeaten 107 with ... RCB won by 6 wickets (with 8 balls remaining). Powered by Smart',\n",
       "  'score': 0.8080827},\n",
       " {'title': 'RCB vs LSG HIGHLIGHTS I IPL 2025 |Sports Today - YouTube',\n",
       "  'url': 'https://www.youtube.com/watch?v=_hJG3h-l1TI',\n",
       "  'content': \"year's Indian Premier League and for them it was just about finishing on a high. Like always in this video I'm going to be taking you through the key highlights of the 70th game of the Indian Premier League. The two captains in Jesh Sharma and Rishap were there at the center for the toss and it was Jes Sharma once again as the standing captain of RCB as Rajat Patidar's injury continues and he was going to play as an impact sub for the Royal Challengers Bengaluru. RCB won the toss and elected to [...] RCB vs LSG HIGHLIGHTS I IPL 2025 |Sports Today\\nSports Today\\n606000 subscribers\\n224 likes\\n68022 views\\n27 May 2025\\nIPL 2025, LSG vs RCB: Stand-in captain Jitesh Sharma produced a knock for the ages, hitting 85 in just 33 balls to help RCB script their highest successful chase of 228 in Lucknow. RCB ended their 9-year wait to finish in the top two of the points table and booked their place in Qualifier 1. [...] done jesharma had really really shown what brutal hitting is if risha pand you guys thought was the talk of the town was going to be the talk of the town. It wasn't going to be true because Jes Sharma hit those 70 odd runs which proved to be the reason why RCB could win. Just look at these visuals how important this win really meant for the Royal Challenges Bengaluru. It's for the very first time after 9 years that they have finished in the top two positions. And why that is so important?\",\n",
       "  'score': 0.7730283}]"
      ]
     },
     "execution_count": 18,
     "metadata": {},
     "output_type": "execute_result"
    }
   ],
   "source": [
    "tavily.invoke(\"Who won RCB VS LSG MATCH IN 2025?\")"
   ]
  },
  {
   "cell_type": "code",
   "execution_count": 19,
   "id": "4cd58820",
   "metadata": {},
   "outputs": [],
   "source": [
    "tools=[arxiv,wiki,tavily]"
   ]
  },
  {
   "cell_type": "code",
   "execution_count": 22,
   "id": "9b339f47",
   "metadata": {},
   "outputs": [],
   "source": [
    "from langchain_groq import ChatGroq\n",
    "\n",
    "llm=ChatGroq(model='Qwen-Qwq-32b')\n",
    "llm_with_tools=llm.bind_tools(tools)"
   ]
  },
  {
   "cell_type": "code",
   "execution_count": 26,
   "id": "d914d3af",
   "metadata": {},
   "outputs": [
    {
     "data": {
      "text/plain": [
       "AIMessage(content='', additional_kwargs={'tool_calls': [{'id': 'call_04he', 'function': {'arguments': '{\"query\":\"latest tech news about AI\"}', 'name': 'tavily_search_results_json'}, 'type': 'function'}]}, response_metadata={'token_usage': {'completion_tokens': 197, 'prompt_tokens': 404, 'total_tokens': 601, 'completion_time': 0.458907545, 'prompt_time': 0.039480694, 'queue_time': 0.265241766, 'total_time': 0.498388239}, 'model_name': 'Qwen-Qwq-32b', 'system_fingerprint': 'fp_28178d7ff6', 'finish_reason': 'tool_calls', 'logprobs': None}, id='run--f92b5a64-d6f5-490e-a42a-3358809f8ae0-0', tool_calls=[{'name': 'tavily_search_results_json', 'args': {'query': 'latest tech news about AI'}, 'id': 'call_04he', 'type': 'tool_call'}], usage_metadata={'input_tokens': 404, 'output_tokens': 197, 'total_tokens': 601})"
      ]
     },
     "execution_count": 26,
     "metadata": {},
     "output_type": "execute_result"
    }
   ],
   "source": [
    "from langchain_core.messages import HumanMessage, AIMessage\n",
    "from pprint import pprint\n",
    "llm_with_tools.invoke([HumanMessage(content=\"What is the latest tech news about AI?\")])"
   ]
  },
  {
   "cell_type": "code",
   "execution_count": null,
   "id": "87ef6a50",
   "metadata": {},
   "outputs": [
    {
     "ename": "NameError",
     "evalue": "name 'State' is not defined",
     "output_type": "error",
     "traceback": [
      "\u001b[31m---------------------------------------------------------------------------\u001b[39m",
      "\u001b[31mNameError\u001b[39m                                 Traceback (most recent call last)",
      "\u001b[36mCell\u001b[39m\u001b[36m \u001b[39m\u001b[32mIn[30]\u001b[39m\u001b[32m, line 8\u001b[39m\n\u001b[32m      5\u001b[39m \u001b[38;5;28;01mfrom\u001b[39;00m\u001b[38;5;250m \u001b[39m\u001b[34;01mlanggraph\u001b[39;00m\u001b[34;01m.\u001b[39;00m\u001b[34;01mprebuilt\u001b[39;00m\u001b[38;5;250m \u001b[39m\u001b[38;5;28;01mimport\u001b[39;00m tools_condition\n\u001b[32m      7\u001b[39m \u001b[38;5;66;03m### Node definition\u001b[39;00m\n\u001b[32m----> \u001b[39m\u001b[32m8\u001b[39m \u001b[38;5;28;01mdef\u001b[39;00m\u001b[38;5;250m \u001b[39m\u001b[34mtool_calling_llm\u001b[39m(state:\u001b[43mState\u001b[49m):\n\u001b[32m      9\u001b[39m     \u001b[38;5;28;01mreturn\u001b[39;00m {\u001b[33m\"\u001b[39m\u001b[33mmessages\u001b[39m\u001b[33m\"\u001b[39m:[llm_with_tools.invoke(state[\u001b[33m\"\u001b[39m\u001b[33mmessages\u001b[39m\u001b[33m\"\u001b[39m])]}\n\u001b[32m     11\u001b[39m \u001b[38;5;66;03m# Build graph\u001b[39;00m\n",
      "\u001b[31mNameError\u001b[39m: name 'State' is not defined"
     ]
    }
   ],
   "source": []
  },
  {
   "cell_type": "code",
   "execution_count": 31,
   "id": "1836109c",
   "metadata": {},
   "outputs": [],
   "source": [
    "from typing_extensions import TypedDict\n",
    "from langchain_core.messages import AnyMessage\n",
    "from typing import Annotated\n",
    "from langgraph.graph.message import add_messages\n",
    "class State(TypedDict):\n",
    "    messages:Annotated[list[AnyMessage],add_messages]"
   ]
  },
  {
   "cell_type": "code",
   "execution_count": 32,
   "id": "e428e6f5",
   "metadata": {},
   "outputs": [
    {
     "data": {
      "image/png": "[encoded data removed]",
      "text/plain": [
       "<IPython.core.display.Image object>"
      ]
     },
     "metadata": {},
     "output_type": "display_data"
    }
   ],
   "source": [
    "from IPython.display import Image, display\n",
    "from langgraph.graph import StateGraph, START, END\n",
    "from langgraph.prebuilt import ToolNode\n",
    "from langgraph.prebuilt import tools_condition\n",
    "\n",
    "### Node definition\n",
    "def tool_calling_llm(state:State):\n",
    "    return {\"messages\":[llm_with_tools.invoke(state[\"messages\"])]}\n",
    "\n",
    "# Build graph\n",
    "builder = StateGraph(State)\n",
    "builder.add_node(\"tool_calling_llm\", tool_calling_llm)\n",
    "builder.add_node(\"tools\", ToolNode(tools))\n",
    "\n",
    "builder.add_edge(START, \"tool_calling_llm\")\n",
    "builder.add_conditional_edges(\n",
    "    \"tool_calling_llm\",\n",
    "    # If the latest message (result) from assistant is a tool call -> tools_condition routes to tools\n",
    "    # If the latest message (result) from assistant is a not a tool call -> tools_condition routes to END\n",
    "    tools_condition,\n",
    ")\n",
    "builder.add_edge(\"tools\", END)\n",
    "\n",
    "\n",
    "graph = builder.compile()\n",
    "\n",
    "# View\n",
    "display(Image(graph.get_graph().draw_mermaid_png()))"
   ]
  },
  {
   "cell_type": "code",
   "execution_count": 33,
   "id": "28009a56",
   "metadata": {},
   "outputs": [
    {
     "name": "stdout",
     "output_type": "stream",
     "text": [
      "================================\u001b[1m Human Message \u001b[0m=================================\n",
      "\n",
      "1706.03762\n",
      "==================================\u001b[1m Ai Message \u001b[0m==================================\n",
      "Tool Calls:\n",
      "  arxiv (call_7n0c)\n",
      " Call ID: call_7n0c\n",
      "  Args:\n",
      "    query: 1706.03762\n",
      "=================================\u001b[1m Tool Message \u001b[0m=================================\n",
      "Name: arxiv\n",
      "\n",
      "Published: 2023-08-02\n",
      "Title: Attention Is All You Need\n",
      "Authors: Ashish Vaswani, Noam Shazeer, Niki Parmar, Jakob Uszkoreit, Llion Jones, Aidan N. Gomez, Lukasz Kaiser, Illia Polosukhin\n",
      "Summary: The dominant sequence transduction models are based on complex recurrent or\n",
      "convolutional neural networks in an encoder-decoder configuration. The best\n",
      "performing models also connect the encoder and decoder through an attention\n",
      "mechanism. We propose a new simple network architecture, the Transformer, base\n"
     ]
    }
   ],
   "source": [
    "messages=graph.invoke({\"messages\":HumanMessage(content=\"1706.03762\")})\n",
    "for m in messages['messages']:\n",
    "    m.pretty_print()"
   ]
  },
  {
   "cell_type": "code",
   "execution_count": null,
   "id": "7996c1d5",
   "metadata": {},
   "outputs": [],
   "source": []
  }
 ],
 "metadata": {
  "kernelspec": {
   "display_name": "Python 3",
   "language": "python",
   "name": "python3"
  },
  "language_info": {
   "codemirror_mode": {
    "name": "ipython",
    "version": 3
   },
   "file_extension": ".py",
   "mimetype": "text/x-python",
   "name": "python",
   "nbconvert_exporter": "python",
   "pygments_lexer": "ipython3",
   "version": "3.12.0"
  }
 },
 "nbformat": 4,
 "nbformat_minor": 5
}
