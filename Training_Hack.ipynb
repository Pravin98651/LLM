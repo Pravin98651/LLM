{
  "nbformat": 4,
  "nbformat_minor": 0,
  "metadata": {
    "colab": {
      "provenance": [],
      "gpuType": "T4",
      "authorship_tag": "ABX9TyNQjUQFAUbNub6LxJKxYEtc",
      "include_colab_link": true
    },
    "kernelspec": {
      "name": "python3",
      "display_name": "Python 3"
    },
    "language_info": {
      "name": "python"
    },
    "accelerator": "GPU",
    "widgets": {
      "application/vnd.jupyter.widget-state+json": {
        "389200d061304ae4a8317a2089840cb8": {
          "model_module": "@jupyter-widgets/controls",
          "model_name": "HBoxModel",
          "model_module_version": "1.5.0",
          "state": {
            "_dom_classes": [],
            "_model_module": "@jupyter-widgets/controls",
            "_model_module_version": "1.5.0",
            "_model_name": "HBoxModel",
            "_view_count": null,
            "_view_module": "@jupyter-widgets/controls",
            "_view_module_version": "1.5.0",
            "_view_name": "HBoxView",
            "box_style": "",
            "children": [
              "IPY_MODEL_d2bd01e4e0f544eeb0a42117fef2be33",
              "IPY_MODEL_2f1b0a52d2d34a9a9b72e1daf3a7e2aa",
              "IPY_MODEL_ca805f4c97fc428d89e1400dcf3bfecc"
            ],
            "layout": "IPY_MODEL_4e7f6b54e1de4330b030f29479a33c56"
          }
        },
        "d2bd01e4e0f544eeb0a42117fef2be33": {
          "model_module": "@jupyter-widgets/controls",
          "model_name": "HTMLModel",
          "model_module_version": "1.5.0",
          "state": {
            "_dom_classes": [],
            "_model_module": "@jupyter-widgets/controls",
            "_model_module_version": "1.5.0",
            "_model_name": "HTMLModel",
            "_view_count": null,
            "_view_module": "@jupyter-widgets/controls",
            "_view_module_version": "1.5.0",
            "_view_name": "HTMLView",
            "description": "",
            "description_tooltip": null,
            "layout": "IPY_MODEL_03f5b02fb7104aac967e498477e13d66",
            "placeholder": "​",
            "style": "IPY_MODEL_d5676601e3e24f6c85d4e2f30a04219d",
            "value": "Batches: 100%"
          }
        },
        "2f1b0a52d2d34a9a9b72e1daf3a7e2aa": {
          "model_module": "@jupyter-widgets/controls",
          "model_name": "FloatProgressModel",
          "model_module_version": "1.5.0",
          "state": {
            "_dom_classes": [],
            "_model_module": "@jupyter-widgets/controls",
            "_model_module_version": "1.5.0",
            "_model_name": "FloatProgressModel",
            "_view_count": null,
            "_view_module": "@jupyter-widgets/controls",
            "_view_module_version": "1.5.0",
            "_view_name": "ProgressView",
            "bar_style": "success",
            "description": "",
            "description_tooltip": null,
            "layout": "IPY_MODEL_094f8e376f95487e9a2f594d4ced25b9",
            "max": 9,
            "min": 0,
            "orientation": "horizontal",
            "style": "IPY_MODEL_df278b9a84f2426f8c33893a51f80469",
            "value": 9
          }
        },
        "ca805f4c97fc428d89e1400dcf3bfecc": {
          "model_module": "@jupyter-widgets/controls",
          "model_name": "HTMLModel",
          "model_module_version": "1.5.0",
          "state": {
            "_dom_classes": [],
            "_model_module": "@jupyter-widgets/controls",
            "_model_module_version": "1.5.0",
            "_model_name": "HTMLModel",
            "_view_count": null,
            "_view_module": "@jupyter-widgets/controls",
            "_view_module_version": "1.5.0",
            "_view_name": "HTMLView",
            "description": "",
            "description_tooltip": null,
            "layout": "IPY_MODEL_a79c1823d3c744d3a36c38e8cd50ea14",
            "placeholder": "​",
            "style": "IPY_MODEL_73ad27c9deef458b9399fffb96ec0f27",
            "value": " 9/9 [00:01&lt;00:00,  8.76it/s]"
          }
        },
        "4e7f6b54e1de4330b030f29479a33c56": {
          "model_module": "@jupyter-widgets/base",
          "model_name": "LayoutModel",
          "model_module_version": "1.2.0",
          "state": {
            "_model_module": "@jupyter-widgets/base",
            "_model_module_version": "1.2.0",
            "_model_name": "LayoutModel",
            "_view_count": null,
            "_view_module": "@jupyter-widgets/base",
            "_view_module_version": "1.2.0",
            "_view_name": "LayoutView",
            "align_content": null,
            "align_items": null,
            "align_self": null,
            "border": null,
            "bottom": null,
            "display": null,
            "flex": null,
            "flex_flow": null,
            "grid_area": null,
            "grid_auto_columns": null,
            "grid_auto_flow": null,
            "grid_auto_rows": null,
            "grid_column": null,
            "grid_gap": null,
            "grid_row": null,
            "grid_template_areas": null,
            "grid_template_columns": null,
            "grid_template_rows": null,
            "height": null,
            "justify_content": null,
            "justify_items": null,
            "left": null,
            "margin": null,
            "max_height": null,
            "max_width": null,
            "min_height": null,
            "min_width": null,
            "object_fit": null,
            "object_position": null,
            "order": null,
            "overflow": null,
            "overflow_x": null,
            "overflow_y": null,
            "padding": null,
            "right": null,
            "top": null,
            "visibility": null,
            "width": null
          }
        },
        "03f5b02fb7104aac967e498477e13d66": {
          "model_module": "@jupyter-widgets/base",
          "model_name": "LayoutModel",
          "model_module_version": "1.2.0",
          "state": {
            "_model_module": "@jupyter-widgets/base",
            "_model_module_version": "1.2.0",
            "_model_name": "LayoutModel",
            "_view_count": null,
            "_view_module": "@jupyter-widgets/base",
            "_view_module_version": "1.2.0",
            "_view_name": "LayoutView",
            "align_content": null,
            "align_items": null,
            "align_self": null,
            "border": null,
            "bottom": null,
            "display": null,
            "flex": null,
            "flex_flow": null,
            "grid_area": null,
            "grid_auto_columns": null,
            "grid_auto_flow": null,
            "grid_auto_rows": null,
            "grid_column": null,
            "grid_gap": null,
            "grid_row": null,
            "grid_template_areas": null,
            "grid_template_columns": null,
            "grid_template_rows": null,
            "height": null,
            "justify_content": null,
            "justify_items": null,
            "left": null,
            "margin": null,
            "max_height": null,
            "max_width": null,
            "min_height": null,
            "min_width": null,
            "object_fit": null,
            "object_position": null,
            "order": null,
            "overflow": null,
            "overflow_x": null,
            "overflow_y": null,
            "padding": null,
            "right": null,
            "top": null,
            "visibility": null,
            "width": null
          }
        },
        "d5676601e3e24f6c85d4e2f30a04219d": {
          "model_module": "@jupyter-widgets/controls",
          "model_name": "DescriptionStyleModel",
          "model_module_version": "1.5.0",
          "state": {
            "_model_module": "@jupyter-widgets/controls",
            "_model_module_version": "1.5.0",
            "_model_name": "DescriptionStyleModel",
            "_view_count": null,
            "_view_module": "@jupyter-widgets/base",
            "_view_module_version": "1.2.0",
            "_view_name": "StyleView",
            "description_width": ""
          }
        },
        "094f8e376f95487e9a2f594d4ced25b9": {
          "model_module": "@jupyter-widgets/base",
          "model_name": "LayoutModel",
          "model_module_version": "1.2.0",
          "state": {
            "_model_module": "@jupyter-widgets/base",
            "_model_module_version": "1.2.0",
            "_model_name": "LayoutModel",
            "_view_count": null,
            "_view_module": "@jupyter-widgets/base",
            "_view_module_version": "1.2.0",
            "_view_name": "LayoutView",
            "align_content": null,
            "align_items": null,
            "align_self": null,
            "border": null,
            "bottom": null,
            "display": null,
            "flex": null,
            "flex_flow": null,
            "grid_area": null,
            "grid_auto_columns": null,
            "grid_auto_flow": null,
            "grid_auto_rows": null,
            "grid_column": null,
            "grid_gap": null,
            "grid_row": null,
            "grid_template_areas": null,
            "grid_template_columns": null,
            "grid_template_rows": null,
            "height": null,
            "justify_content": null,
            "justify_items": null,
            "left": null,
            "margin": null,
            "max_height": null,
            "max_width": null,
            "min_height": null,
            "min_width": null,
            "object_fit": null,
            "object_position": null,
            "order": null,
            "overflow": null,
            "overflow_x": null,
            "overflow_y": null,
            "padding": null,
            "right": null,
            "top": null,
            "visibility": null,
            "width": null
          }
        },
        "df278b9a84f2426f8c33893a51f80469": {
          "model_module": "@jupyter-widgets/controls",
          "model_name": "ProgressStyleModel",
          "model_module_version": "1.5.0",
          "state": {
            "_model_module": "@jupyter-widgets/controls",
            "_model_module_version": "1.5.0",
            "_model_name": "ProgressStyleModel",
            "_view_count": null,
            "_view_module": "@jupyter-widgets/base",
            "_view_module_version": "1.2.0",
            "_view_name": "StyleView",
            "bar_color": null,
            "description_width": ""
          }
        },
        "a79c1823d3c744d3a36c38e8cd50ea14": {
          "model_module": "@jupyter-widgets/base",
          "model_name": "LayoutModel",
          "model_module_version": "1.2.0",
          "state": {
            "_model_module": "@jupyter-widgets/base",
            "_model_module_version": "1.2.0",
            "_model_name": "LayoutModel",
            "_view_count": null,
            "_view_module": "@jupyter-widgets/base",
            "_view_module_version": "1.2.0",
            "_view_name": "LayoutView",
            "align_content": null,
            "align_items": null,
            "align_self": null,
            "border": null,
            "bottom": null,
            "display": null,
            "flex": null,
            "flex_flow": null,
            "grid_area": null,
            "grid_auto_columns": null,
            "grid_auto_flow": null,
            "grid_auto_rows": null,
            "grid_column": null,
            "grid_gap": null,
            "grid_row": null,
            "grid_template_areas": null,
            "grid_template_columns": null,
            "grid_template_rows": null,
            "height": null,
            "justify_content": null,
            "justify_items": null,
            "left": null,
            "margin": null,
            "max_height": null,
            "max_width": null,
            "min_height": null,
            "min_width": null,
            "object_fit": null,
            "object_position": null,
            "order": null,
            "overflow": null,
            "overflow_x": null,
            "overflow_y": null,
            "padding": null,
            "right": null,
            "top": null,
            "visibility": null,
            "width": null
          }
        },
        "73ad27c9deef458b9399fffb96ec0f27": {
          "model_module": "@jupyter-widgets/controls",
          "model_name": "DescriptionStyleModel",
          "model_module_version": "1.5.0",
          "state": {
            "_model_module": "@jupyter-widgets/controls",
            "_model_module_version": "1.5.0",
            "_model_name": "DescriptionStyleModel",
            "_view_count": null,
            "_view_module": "@jupyter-widgets/base",
            "_view_module_version": "1.2.0",
            "_view_name": "StyleView",
            "description_width": ""
          }
        }
      }
    }
  },
  "cells": [
    {
      "cell_type": "markdown",
      "metadata": {
        "id": "view-in-github",
        "colab_type": "text"
      },
      "source": [
        "<a href=\"https://colab.research.google.com/github/Pravin98651/LLM/blob/main/Training_Hack.ipynb\" target=\"_parent\"><img src=\"https://colab.research.google.com/assets/colab-badge.svg\" alt=\"Open In Colab\"/></a>"
      ]
    },
    {
      "cell_type": "code",
      "execution_count": 40,
      "metadata": {
        "id": "Pelyo4H5gyFA"
      },
      "outputs": [],
      "source": [
        "!pip install -q pdfplumber python-docx faiss-cpu sentence-transformers\n"
      ]
    },
    {
      "cell_type": "code",
      "source": [
        "from google.colab import files\n",
        "uploaded = files.upload()\n"
      ],
      "metadata": {
        "colab": {
          "base_uri": "https://localhost:8080/",
          "height": 212
        },
        "id": "vUXCK0AOiV7v",
        "outputId": "ae29559f-2965-41f5-ab0a-23c2ab9b8a65"
      },
      "execution_count": 26,
      "outputs": [
        {
          "output_type": "display_data",
          "data": {
            "text/plain": [
              "<IPython.core.display.HTML object>"
            ],
            "text/html": [
              "\n",
              "     <input type=\"file\" id=\"files-ada1455b-61e5-44cc-98a4-acdbf7d35637\" name=\"files[]\" multiple disabled\n",
              "        style=\"border:none\" />\n",
              "     <output id=\"result-ada1455b-61e5-44cc-98a4-acdbf7d35637\">\n",
              "      Upload widget is only available when the cell has been executed in the\n",
              "      current browser session. Please rerun this cell to enable.\n",
              "      </output>\n",
              "      <script>// Copyright 2017 Google LLC\n",
              "//\n",
              "// Licensed under the Apache License, Version 2.0 (the \"License\");\n",
              "// you may not use this file except in compliance with the License.\n",
              "// You may obtain a copy of the License at\n",
              "//\n",
              "//      http://www.apache.org/licenses/LICENSE-2.0\n",
              "//\n",
              "// Unless required by applicable law or agreed to in writing, software\n",
              "// distributed under the License is distributed on an \"AS IS\" BASIS,\n",
              "// WITHOUT WARRANTIES OR CONDITIONS OF ANY KIND, either express or implied.\n",
              "// See the License for the specific language governing permissions and\n",
              "// limitations under the License.\n",
              "\n",
              "/**\n",
              " * @fileoverview Helpers for google.colab Python module.\n",
              " */\n",
              "(function(scope) {\n",
              "function span(text, styleAttributes = {}) {\n",
              "  const element = document.createElement('span');\n",
              "  element.textContent = text;\n",
              "  for (const key of Object.keys(styleAttributes)) {\n",
              "    element.style[key] = styleAttributes[key];\n",
              "  }\n",
              "  return element;\n",
              "}\n",
              "\n",
              "// Max number of bytes which will be uploaded at a time.\n",
              "const MAX_PAYLOAD_SIZE = 100 * 1024;\n",
              "\n",
              "function _uploadFiles(inputId, outputId) {\n",
              "  const steps = uploadFilesStep(inputId, outputId);\n",
              "  const outputElement = document.getElementById(outputId);\n",
              "  // Cache steps on the outputElement to make it available for the next call\n",
              "  // to uploadFilesContinue from Python.\n",
              "  outputElement.steps = steps;\n",
              "\n",
              "  return _uploadFilesContinue(outputId);\n",
              "}\n",
              "\n",
              "// This is roughly an async generator (not supported in the browser yet),\n",
              "// where there are multiple asynchronous steps and the Python side is going\n",
              "// to poll for completion of each step.\n",
              "// This uses a Promise to block the python side on completion of each step,\n",
              "// then passes the result of the previous step as the input to the next step.\n",
              "function _uploadFilesContinue(outputId) {\n",
              "  const outputElement = document.getElementById(outputId);\n",
              "  const steps = outputElement.steps;\n",
              "\n",
              "  const next = steps.next(outputElement.lastPromiseValue);\n",
              "  return Promise.resolve(next.value.promise).then((value) => {\n",
              "    // Cache the last promise value to make it available to the next\n",
              "    // step of the generator.\n",
              "    outputElement.lastPromiseValue = value;\n",
              "    return next.value.response;\n",
              "  });\n",
              "}\n",
              "\n",
              "/**\n",
              " * Generator function which is called between each async step of the upload\n",
              " * process.\n",
              " * @param {string} inputId Element ID of the input file picker element.\n",
              " * @param {string} outputId Element ID of the output display.\n",
              " * @return {!Iterable<!Object>} Iterable of next steps.\n",
              " */\n",
              "function* uploadFilesStep(inputId, outputId) {\n",
              "  const inputElement = document.getElementById(inputId);\n",
              "  inputElement.disabled = false;\n",
              "\n",
              "  const outputElement = document.getElementById(outputId);\n",
              "  outputElement.innerHTML = '';\n",
              "\n",
              "  const pickedPromise = new Promise((resolve) => {\n",
              "    inputElement.addEventListener('change', (e) => {\n",
              "      resolve(e.target.files);\n",
              "    });\n",
              "  });\n",
              "\n",
              "  const cancel = document.createElement('button');\n",
              "  inputElement.parentElement.appendChild(cancel);\n",
              "  cancel.textContent = 'Cancel upload';\n",
              "  const cancelPromise = new Promise((resolve) => {\n",
              "    cancel.onclick = () => {\n",
              "      resolve(null);\n",
              "    };\n",
              "  });\n",
              "\n",
              "  // Wait for the user to pick the files.\n",
              "  const files = yield {\n",
              "    promise: Promise.race([pickedPromise, cancelPromise]),\n",
              "    response: {\n",
              "      action: 'starting',\n",
              "    }\n",
              "  };\n",
              "\n",
              "  cancel.remove();\n",
              "\n",
              "  // Disable the input element since further picks are not allowed.\n",
              "  inputElement.disabled = true;\n",
              "\n",
              "  if (!files) {\n",
              "    return {\n",
              "      response: {\n",
              "        action: 'complete',\n",
              "      }\n",
              "    };\n",
              "  }\n",
              "\n",
              "  for (const file of files) {\n",
              "    const li = document.createElement('li');\n",
              "    li.append(span(file.name, {fontWeight: 'bold'}));\n",
              "    li.append(span(\n",
              "        `(${file.type || 'n/a'}) - ${file.size} bytes, ` +\n",
              "        `last modified: ${\n",
              "            file.lastModifiedDate ? file.lastModifiedDate.toLocaleDateString() :\n",
              "                                    'n/a'} - `));\n",
              "    const percent = span('0% done');\n",
              "    li.appendChild(percent);\n",
              "\n",
              "    outputElement.appendChild(li);\n",
              "\n",
              "    const fileDataPromise = new Promise((resolve) => {\n",
              "      const reader = new FileReader();\n",
              "      reader.onload = (e) => {\n",
              "        resolve(e.target.result);\n",
              "      };\n",
              "      reader.readAsArrayBuffer(file);\n",
              "    });\n",
              "    // Wait for the data to be ready.\n",
              "    let fileData = yield {\n",
              "      promise: fileDataPromise,\n",
              "      response: {\n",
              "        action: 'continue',\n",
              "      }\n",
              "    };\n",
              "\n",
              "    // Use a chunked sending to avoid message size limits. See b/62115660.\n",
              "    let position = 0;\n",
              "    do {\n",
              "      const length = Math.min(fileData.byteLength - position, MAX_PAYLOAD_SIZE);\n",
              "      const chunk = new Uint8Array(fileData, position, length);\n",
              "      position += length;\n",
              "\n",
              "      const base64 = btoa(String.fromCharCode.apply(null, chunk));\n",
              "      yield {\n",
              "        response: {\n",
              "          action: 'append',\n",
              "          file: file.name,\n",
              "          data: base64,\n",
              "        },\n",
              "      };\n",
              "\n",
              "      let percentDone = fileData.byteLength === 0 ?\n",
              "          100 :\n",
              "          Math.round((position / fileData.byteLength) * 100);\n",
              "      percent.textContent = `${percentDone}% done`;\n",
              "\n",
              "    } while (position < fileData.byteLength);\n",
              "  }\n",
              "\n",
              "  // All done.\n",
              "  yield {\n",
              "    response: {\n",
              "      action: 'complete',\n",
              "    }\n",
              "  };\n",
              "}\n",
              "\n",
              "scope.google = scope.google || {};\n",
              "scope.google.colab = scope.google.colab || {};\n",
              "scope.google.colab._files = {\n",
              "  _uploadFiles,\n",
              "  _uploadFilesContinue,\n",
              "};\n",
              "})(self);\n",
              "</script> "
            ]
          },
          "metadata": {}
        },
        {
          "output_type": "stream",
          "name": "stdout",
          "text": [
            "Saving ICIHLIP22012V012223.pdf to ICIHLIP22012V012223 (1).pdf\n",
            "Saving HDFHLIP23024V072223.pdf to HDFHLIP23024V072223 (1).pdf\n",
            "Saving EDLHLGA23009V012223.pdf to EDLHLGA23009V012223 (1).pdf\n",
            "Saving BAJHLIP23020V012223.pdf to BAJHLIP23020V012223 (1).pdf\n",
            "Saving CHOTGDP23004V012223.pdf to CHOTGDP23004V012223 (1).pdf\n"
          ]
        }
      ]
    },
    {
      "cell_type": "code",
      "source": [
        "import pdfplumber\n",
        "import docx\n",
        "from typing import List\n",
        "\n",
        "def extract_text_from_pdf(pdf_path: str) -> str:\n",
        "    text = ''\n",
        "    with pdfplumber.open(pdf_path) as pdf:\n",
        "        for page in pdf.pages:\n",
        "            text += page.extract_text() + '\\n'\n",
        "    return text\n",
        "\n",
        "def extract_text_from_docx(docx_path: str) -> str:\n",
        "    doc = docx.Document(docx_path)\n",
        "    return '\\n'.join([p.text for p in doc.paragraphs])\n",
        "\n",
        "def chunk_text(text: str, chunk_size: int = 500, overlap: int = 50) -> List[str]:\n",
        "    words = text.split()\n",
        "    return [' '.join(words[i:i+chunk_size]) for i in range(0, len(words), chunk_size - overlap)]\n"
      ],
      "metadata": {
        "id": "QMJx7t8ejBQt"
      },
      "execution_count": 27,
      "outputs": []
    },
    {
      "cell_type": "code",
      "source": [
        "from sentence_transformers import SentenceTransformer\n",
        "import faiss\n",
        "import numpy as np\n",
        "\n",
        "embed_model = SentenceTransformer('all-MiniLM-L6-v2')\n",
        "\n",
        "def embed_and_index(chunks: List[str]):\n",
        "    embeddings = embed_model.encode(chunks, show_progress_bar=True)\n",
        "    dim = embeddings.shape[1]\n",
        "    index = faiss.IndexFlatL2(dim)\n",
        "    index.add(np.array(embeddings))\n",
        "    return index, embeddings\n"
      ],
      "metadata": {
        "id": "PLCp1wRCjJQv"
      },
      "execution_count": 28,
      "outputs": []
    },
    {
      "cell_type": "code",
      "source": [
        "from google.colab import drive\n",
        "drive.mount('/content/drive')\n"
      ],
      "metadata": {
        "colab": {
          "base_uri": "https://localhost:8080/"
        },
        "id": "CjhMI8s3j54q",
        "outputId": "485035a0-ed3b-49c1-f10e-460a27666029"
      },
      "execution_count": 29,
      "outputs": [
        {
          "output_type": "stream",
          "name": "stdout",
          "text": [
            "Drive already mounted at /content/drive; to attempt to forcibly remount, call drive.mount(\"/content/drive\", force_remount=True).\n"
          ]
        }
      ]
    },
    {
      "cell_type": "code",
      "source": [
        "import os\n",
        "import pdfplumber\n",
        "import docx\n",
        "from sentence_transformers import SentenceTransformer\n",
        "import faiss\n",
        "import numpy as np\n",
        "\n",
        "def extract_text_from_pdf(pdf_path: str) -> str:\n",
        "    text = ''\n",
        "    with pdfplumber.open(pdf_path) as pdf:\n",
        "        for page in pdf.pages:\n",
        "            text += page.extract_text() + '\\n'\n",
        "    return text\n",
        "\n",
        "def extract_text_from_docx(docx_path: str) -> str:\n",
        "    doc = docx.Document(docx_path)\n",
        "    return '\\n'.join([p.text for p in doc.paragraphs])\n",
        "\n",
        "def chunk_text(text: str, chunk_size: int = 500, overlap: int = 50):\n",
        "    words = text.split()\n",
        "    return [' '.join(words[i:i+chunk_size]) for i in range(0, len(words), chunk_size - overlap)]\n"
      ],
      "metadata": {
        "id": "PMJuYoxUkQ2I"
      },
      "execution_count": 30,
      "outputs": []
    },
    {
      "cell_type": "code",
      "source": [
        "folder_path = '/content/drive/MyDrive/Training Docs'  # change if your folder is nested deeper\n",
        "all_chunks = []\n",
        "\n",
        "for fname in os.listdir(folder_path):\n",
        "    file_path = os.path.join(folder_path, fname)\n",
        "    if fname.endswith('.pdf'):\n",
        "        print(f\"📄 Reading PDF: {fname}\")\n",
        "        text = extract_text_from_pdf(file_path)\n",
        "    elif fname.endswith('.docx'):\n",
        "        print(f\"📝 Reading DOCX: {fname}\")\n",
        "        text = extract_text_from_docx(file_path)\n",
        "    else:\n",
        "        print(f\"⚠️ Skipping unsupported file: {fname}\")\n",
        "        continue\n",
        "\n",
        "    chunks = chunk_text(text)\n",
        "    print(f\"✅ Extracted {len(chunks)} chunks from {fname}\")\n",
        "    all_chunks.extend(chunks)\n"
      ],
      "metadata": {
        "colab": {
          "base_uri": "https://localhost:8080/"
        },
        "id": "qokCkQtBkWbR",
        "outputId": "8faff356-ae3e-44da-b3c7-d5d273501c50"
      },
      "execution_count": 31,
      "outputs": [
        {
          "output_type": "stream",
          "name": "stdout",
          "text": [
            "📄 Reading PDF: CHOTGDP23004V012223.pdf\n",
            "✅ Extracted 117 chunks from CHOTGDP23004V012223.pdf\n",
            "📄 Reading PDF: BAJHLIP23020V012223.pdf\n",
            "✅ Extracted 65 chunks from BAJHLIP23020V012223.pdf\n",
            "📄 Reading PDF: EDLHLGA23009V012223.pdf\n",
            "✅ Extracted 3 chunks from EDLHLGA23009V012223.pdf\n",
            "📄 Reading PDF: HDFHLIP23024V072223.pdf\n",
            "✅ Extracted 41 chunks from HDFHLIP23024V072223.pdf\n",
            "📄 Reading PDF: ICIHLIP22012V012223.pdf\n",
            "✅ Extracted 48 chunks from ICIHLIP22012V012223.pdf\n"
          ]
        }
      ]
    },
    {
      "cell_type": "code",
      "source": [
        "embed_model = SentenceTransformer('all-MiniLM-L6-v2')\n",
        "embeddings = embed_model.encode(all_chunks, show_progress_bar=True)\n",
        "\n",
        "dim = embeddings.shape[1]\n",
        "index = faiss.IndexFlatL2(dim)\n",
        "index.add(np.array(embeddings))\n",
        "\n",
        "print(f\"\\n✅ FAISS Index created with {len(all_chunks)} total chunks.\")\n"
      ],
      "metadata": {
        "colab": {
          "base_uri": "https://localhost:8080/",
          "height": 84,
          "referenced_widgets": [
            "389200d061304ae4a8317a2089840cb8",
            "d2bd01e4e0f544eeb0a42117fef2be33",
            "2f1b0a52d2d34a9a9b72e1daf3a7e2aa",
            "ca805f4c97fc428d89e1400dcf3bfecc",
            "4e7f6b54e1de4330b030f29479a33c56",
            "03f5b02fb7104aac967e498477e13d66",
            "d5676601e3e24f6c85d4e2f30a04219d",
            "094f8e376f95487e9a2f594d4ced25b9",
            "df278b9a84f2426f8c33893a51f80469",
            "a79c1823d3c744d3a36c38e8cd50ea14",
            "73ad27c9deef458b9399fffb96ec0f27"
          ]
        },
        "id": "4w9bPV24ksNS",
        "outputId": "30d9b534-616e-4938-be6a-10596b8b386a"
      },
      "execution_count": 32,
      "outputs": [
        {
          "output_type": "display_data",
          "data": {
            "text/plain": [
              "Batches:   0%|          | 0/9 [00:00<?, ?it/s]"
            ],
            "application/vnd.jupyter.widget-view+json": {
              "version_major": 2,
              "version_minor": 0,
              "model_id": "389200d061304ae4a8317a2089840cb8"
            }
          },
          "metadata": {}
        },
        {
          "output_type": "stream",
          "name": "stdout",
          "text": [
            "\n",
            "✅ FAISS Index created with 274 total chunks.\n"
          ]
        }
      ]
    },
    {
      "cell_type": "code",
      "source": [
        "def semantic_search(query: str, k: int = 5):\n",
        "    query_vec = embed_model.encode([query])\n",
        "    distances, indices = index.search(np.array(query_vec), k)\n",
        "    return [all_chunks[i] for i in indices[0]]\n",
        "\n",
        "query = \"Does this policy cover knee surgery?\"\n",
        "results = semantic_search(query)\n",
        "\n",
        "for i, res in enumerate(results):\n",
        "    print(f\"\\n🔍 Result {i+1}:\\n{res}\")\n",
        "\n"
      ],
      "metadata": {
        "colab": {
          "base_uri": "https://localhost:8080/"
        },
        "id": "19ERoBH1kyHB",
        "outputId": "36cae64c-ed01-4363-da28-c1d4329d4868"
      },
      "execution_count": 33,
      "outputs": [
        {
          "output_type": "stream",
          "name": "stdout",
          "text": [
            "\n",
            "🔍 Result 1:\n",
            "under the Policy. The payment under this cover specific exclusion. is subject to admissibility of Your In-patient treatment Claim under the Policy. e. If the Insured Person is continuously covered without any break as defined d. Exclusions under the applicable norms on portability We will not be liable for any Voluntary Deductible stipulated by IRDAI, then waiting period amount, if applicable and as specifically defined in the for the same would be reduced to the Policy Schedule under the Policy. extent of prior coverage. We will not be liable to make any payment under this Policy in connection with or in respect of any expenses whatsoever incurred in connection with or in respect of: UIN : ICIHLIP22012V012223 17 CIN: L67200MH2000PLC129408 Golden Shield f. List of specific Illness and Surgical Procedures as mention below: Sr. Organ /Organ Illness/ diagnosis Surgeries/ Procedures (irrespective of any No. System (irrespective of treatments medical or surgical) illness or diagnosis other than cancers) 1 ENT Deviated Nasal Septum Septoplasty CSOM-Chronic Suppurative Otitis Media Mastoidectomy Tympanoplasty, Myringotomy & Myringoplasty Any treatment for conditions related to tonsils, adenoids, sinuses, Turbinates/ concha 2 Gynaecological Fibroids (fibromyoma) Dilatation and curettage (D&C) Endometriosis, Cervicitis Myomectomy Uterine Prolapse Hysterectomy (unless due to malignancy Dysfunctional uterine bleeding Polycystic Ovarian Syndrome (PCOS) 3 Orthopaedic Arthritis Surgeries for joint replacements Gout and Rheumatism Repairs/ reconstruction of ligaments/ meniscus/ tendons Spinal and Vertebral Disorders including diagnosis as low back ache Spinal & Vertebral Surgeries Arthroscopy 4 Gastrointestinal Stones in gall bladder & Biliary System, cholecystitis, acalculous Cholecystectomy, Procedures for biliary cholecystitis stones Fissure/fistula in anus, hemorrhoids, pilonidal sinus Endoscopy Esophageal Varices & Gastric Varices Procedures for Esophageal Varices & Gastric Varices All types Hernia Endoscopy Gastrointestinal ulcers including Gastritis & Duodenitis/ Erosions of gastrointestinal tract All forms of Liver cirrhosis 5 Uro-genital Stones in Urinary system Surgeries and procedures related to Stones in Urinary system Benign Hyperplasia of prostate Prostatic Surgeries Chronic Renal Failure or end stage Renal Failure or chronic Dialysis but not limited to haemodialysis & kidney disease including dialysis peritoneal dialysis Hydrocele, varicocele/ rectocele/ Spermatocele 6 Eye Cataract Retinal detachment Glaucoma Usage of intra vitreal injections including but not limited to avastin & lucentis UIN : ICIHLIP22012V012223 18 CIN: L67200MH2000PLC129408 Golden Shield f. List of specific Illness and Surgical Procedures as mention below: (Contd.) Sr. Organ /Organ Illness/ diagnosis Surgeries/ Procedures (irrespective of any No. System (irrespective of treatments medical or surgical) illness or diagnosis other than cancers) 7 Other General All internal/ external tumors, cysts, nodules, polyps, sinus, fistula conditions (Applicable to Varicose veins & Varicose ulcers all organ systems/ Parkinson’s disease/Alzheimer’s disease organs/ disciplines whether or not described above) 3. a. Expenses related to the treatment of the below Expenses related to any admission primarily for mentioned illness within 90 days from the first policy enforced bed rest and not for receiving treatment. This commencement date shall be excluded unless they also includes: are pre-existing and disclosed at the time of a. Custodial care either at home or in a nursing\n",
            "\n",
            "🔍 Result 2:\n",
            "who has concluded this Policy with Us. Section B. Benefits IMPORTANT: Any claims made under these benefits will impact eligibility for Cumulative Bonus, and Health Checkup. We will cover the Medical Expenses for: We will not cover treatment, costs or expenses for*: *The following exclusions apply in addition to the waiting periods and general exclusions specified in Section C-1,2,3 In addition to the waiting periods (Section C-1) and general exclusions (Section C-2&3), We will also not cover expenses 1. Inpatient Benefits: This section of benefits is applicable when • An insured suffers an Accident or Illness, which is covered under this Policy • Hospitalisation is necessary & is done for treatment OR • Day care treatment is necessary and is done OR • Domiciliary treatment is necessary and is done 1 a. In-Patient Treatment If as per any or all of the Medical references herein below containing guidelines and protocols for This includes Evidence Based Medicines, the Hospitalisation for • Hospital room rent or boarding; treatment under claim is not necessary or the stay • Nursing; at the hospital is found unduly long: • Intensive Care Unit • Medical Practitioners (Fees)  Medical text books, • Anesthesia  Standard treatment guidelines as stated in • Blood clinical establishment act of Government of • Oxygen India, • Operation theatre  World Health Organisation (WHO) • Surgical appliances; protocols, • Medicines, drugs & consumables;  Published guidelines by healthcare • Diagnostic procedures. providers,  Guidelines set by medical societies like cardiological society of India, neurological society of India etc. b. Pre-Hospitalization Medical Expenses for 1. Claims which have NOT been admitted under 1a), 1d) consultations, investigations and medicines and 1e) incurred upto 60 days before the date of 2. Expenses not related to the admission and not admission to the Hospital (Inpatient or Day incidental to the treatment for which the admission Care or Domiciliary treatment) has taken place c. Post-Hospitalization Medical Expenses for consultations, investigations and medicines incurred upto 90 days after discharge from Hospitalisation (Inpatient or Day Care or Domiciliary treatment). d. Day Care Procedures 1. Treatment that can be and is usually taken on an Out- Medical treatment or surgical procedure Patient basis is not covered which is undertaken under general or local 2. Treatment a NOT taken at a Hospital anaesthesia, which require admission in a HDFC ERGO General Insurance Company Limited. IRDAI Reg. No.146. CIN: U66030MH2007PLC177117. Registered & Corporate Office: 1st Floor, HDFC House, 165-166 Backbay Reclamation, H. T. Parekh Marg, Churchgate, Mumbai – 400 020. Trade Logo displayed above belongs to HDFC Ltd and ERGO International AG and used by the Company under license. Easy Health UIN: HDFHLIP23024V072223 9 | P age HDFC ERGO General Insurance Company Limited Hospital/Day Care Centre for stay less than 24 hours. Treatment normally taken on out- patient basis is not included in the scope of this definition. e. Domiciliary Treatment 1. Treatment of less than 3 days (Coverage will be Medical treatment for an provided for expenses incurred in first\n",
            "\n",
            "🔍 Result 3:\n",
            "FOR INTERNATIONAL COVER)  During the first year of Global Health Care Policy with Us, 30 days waiting period would be applicable for all claims under Dental Plan Benefits except those arising out of Accidental Injury, however the waiting period would not be applied during subsequent renewals  Dental surgery does not cover surgical treatment that relates to dental implants.  Dental Prostheses, dental implants, orthodontics SECTION E) GENERAL TERMS AND CONDITIONS - STANDARD GENERAL TERMS AND CONDITIONS 1. Disclosure of Information The Policy shall be void and all premium paid thereon shall be forfeited to the Company in the event of misrepresentation, mis description or non-disclosure of any material fact by the Policy holder. (Explanation- “Material facts” for the purpose of this Policy shall mean all relevant information sought by the Company in the proposal form and other connected documents to enable it to take informed decision in the context of underwriting the risk.) 2. Condition Precedent to Admission of Liability The terms and conditions of the Policy must be fulfilled by the Insured for the Company to make any payment for claim(s) arising under the Policy. 3. Claim Settlement. (provision for Penal interest) i. The Company shall settle or reject a claim, as the case may be, within 30 days from the date of receipt of last necessary document. ii. ln the case of delay in the payment of a claim, the Company shall be liable to pay interest to the Policyholder from the date of receipt of last necessary document to the date of payment of claim at a rate 2% above the bank rate. iii. However, where the circumstances of a claim warrant an investigation in the opinion of the Company, it shall initiate and complete such investigation at the earliest, in any case not later than 30 days from the date of receipt of last necessary document. In such cases, the Company shall settle or reject the claim within 45 days from the date of receipt of last necessary document. iv. In case of delay beyond stipulated 45 days, the Company shall be liable to pay interest to the Policyholder at a rate 2% above the bank rate from the date of receipt of last necessary document to the date of payment of claim. (Explanation: \"Bank rate\" shall mean the rate fixed by the Reserve Bank of lndia (RBl) at the beginning of the financial year in which claim has fallen due) 4. Complete Discharge Any payment to the Policyholder, Insured or his/ her nominees or his/ her legal representative or assignee or to the Hospital, as the case may be, for any benefit under the Policy shall be a valid discharge towards payment of claim by the Company to the extent of that amount for the particular claim. 5. Multiple Policies i. In case of multiple policies taken by an Insured during a period from the same or one or more insurers to indemnify treatment costs, the Insured shall have the right to require\n",
            "\n",
            "🔍 Result 4:\n",
            "to any admission primarily for mentioned illness within 90 days from the first policy enforced bed rest and not for receiving treatment. This commencement date shall be excluded unless they also includes: are pre-existing and disclosed at the time of a. Custodial care either at home or in a nursing facility underwriting for personal care such as help with activities of i. Hypertension daily living such as bathing, dressing, moving around either by skilled nurses or assistant or non- ii. Diabetes skilled persons. iii. Cardiac Conditions b. Any services for people who are terminally ill to b. This exclusion shall not, however, apply if the Insured address physical, social, emotional and spiritual Person has continuous coverage for more than twelve needs months. iii. Code- Excl06: Obesity/ Weight Control c. The within referred waiting period is made applicable Expenses related to the surgical treatment of to the enhanced sum insured in the event of granting obesity that does not fulfil all the below conditions: higher sum insured subsequently. 1. Surgery to be conducted is upon the advice of 4. Code- Excl03: 30-day waiting period the Doctor a. Expenses related to the treatment of any illness within 2. The surgery/Procedure conducted should be 30 days from the first policy commencement date shall supported by clinical protocols be excluded except claims arising due to an accident, provided the same are covered. 3. The member has to be 18 years of age or older and b. This exclusion shall not, however, apply if the Insured Person has Continuous Coverage for more than twelve 4. Body Mass Index (BMI); months. a. greater than or equal to 40 or c. The within referred waiting period is made applicable b. greater than or equal to 35 in conjunction to the enhanced sum insured in the event of granting with any of the following severe co- higher sum insured subsequently morbidities following failure of less Unless covered by way of an appropriate extensions / invasive methods of weight loss: optional covers, We shall not be liable to make any i. Obesity-related cardiomyopathy payment under this Policy in connection with or in ii. Coronary heart disease respect of iii. Severe Sleep Apnea 5. Permanent Exclusions iv. Uncontrolled Type2 Diabetes i. Code- Excl04: Investigation & Evaluation iv. Code- Excl07: Change of Gender treatments a. Expenses related to any admission primarily for diagnostics and evaluation purposes only are Expenses related to any treatment, including surgical excluded. management, to change characteristics of the body to those of the opposite sex. b. Any diagnostic expenses which are not related or not incidental to the current diagnosis and v. Code- Excl08: Cosmetic or plastic Surgery treatment are excluded. Expenses for cosmetic or plastic surgery or any ii. Code - Excl05: Exclusion Name: Rest Cure, treatment to change appearance unless for rehabilitation and respite care- reconstruction following an Accident, Burn(s) or UIN : ICIHLIP22012V012223 19 CIN: L67200MH2000PLC129408 Golden Shield Cancer or as part of medically necessary treatment to xv. Code- Excl18: Maternity: Medical treatment expenses\n",
            "\n",
            "🔍 Result 5:\n",
            "For Buy/ Renew/ Service/ Claim related queries Log on to www.icicilombard.com or call 1800 2666 Golden Shield Policy Wording b. Preamble theatre where surgical procedures are to be carried out; This Policy has been issued on the basis of the Disclosure to information Norm, including the information provided by iv. Maintaining daily records of the patients and Proposer in respect of the Insured Persons in the Proposal making them accessible to the insurance Form, any application for insurance cover in respect of any company’s authorized representative Insured Person and any other information or details AYUSH Day Care Centre means and includes submitted in relation to the Proposal Form. This Policy is a Community Health Centre (CHC), Primary Health contract of insurance between You and Us which is subject Centre (PHC), Dispensary, Clinic, Polyclinic or any such to the receipt of premium in full and accepted by Us in health centre which is registered with the local respect of the Insured Persons and the terms, conditions authorities, wherever applicable and having facilities and exclusions as specified in the Policy/ Policy Schedule / for carrying out treatment procedures and medical or Product Benefit Table of this Policy. surgical/para-surgical interventions or both under the c. Definitions supervision of registered AYUSH Medical Practitioner (s) on day care basis without in- patient services and For the purposes of this Policy, the terms specified below must comply with all the following criterion: shall have the meaning set forth wherever appearing/ specified in this Policy or related Extensions: a. Having qualified registered AYUSH Medical Practitioner(s) in charge; Where the context so requires, references to the singular shall also include references to the plural and references to b. Having dedicated AYUSH therapy sections as any gender shall include references to all genders. Further required and/or has equipped operation theatre any references to statutory enactment include subsequent where surgical procedures are to be carried out; changes to the same. c. Maintaining daily records of the patients and i. Standard definitions (Definitions whose wordings making them accessible to the insurance are specified by IRDAI) company’s authorized representative. Accident means a sudden, unforeseen and involuntary (Explanation: Medical practitioner referred in the event caused by external, visible and violent means. definition of “AYUSH Hospital” and “AYUSH day care center” shall carry the same meaning as defined in the Any one illness means continuous Period of illness and definition of “Medical practitioner” under chapter I of it includes relapse within 45 days from the date of last Guidelines) consultation with the Hospital/Nursing Home where treatment was taken. Cashless Facility means a facility extended by the insurer to the insured where the payments, of the costs Ayush Hospital is a healthcare facility wherein of treatment undergone by the insured in accordance medical/surgical/para-surgical treatment procedures with the policy terms and conditions, are directly made and interventions are carried out by AYUSH Medical to the network provider by the insurer to the extent pre- practitioner(s) comprising of any of the following: authorization approved. a. Central or\n"
          ]
        }
      ]
    },
    {
      "cell_type": "code",
      "source": [
        "import pickle\n",
        "\n",
        "# Paths to save\n",
        "save_dir = \"/content/drive/MyDrive/TrainingModel\"  # You can choose another subfolder\n",
        "os.makedirs(save_dir, exist_ok=True)\n",
        "\n",
        "# Save FAISS index\n",
        "faiss.write_index(index, os.path.join(save_dir, \"index.faiss\"))\n",
        "\n",
        "# Save chunks\n",
        "with open(os.path.join(save_dir, \"chunks.pkl\"), \"wb\") as f:\n",
        "    pickle.dump(all_chunks, f)\n",
        "\n",
        "print(f\"✅ Model saved to Google Drive in: {save_dir}\")\n"
      ],
      "metadata": {
        "colab": {
          "base_uri": "https://localhost:8080/"
        },
        "id": "FNFoAPG4lMYT",
        "outputId": "e3bf99ad-5b3c-4470-b590-92d3a1d5f7d6"
      },
      "execution_count": 34,
      "outputs": [
        {
          "output_type": "stream",
          "name": "stdout",
          "text": [
            "✅ Model saved to Google Drive in: /content/drive/MyDrive/TrainingModel\n"
          ]
        }
      ]
    },
    {
      "cell_type": "code",
      "source": [
        "# Mount Drive again if in new session\n",
        "from google.colab import drive\n",
        "drive.mount('/content/drive')\n",
        "\n",
        "import faiss\n",
        "import pickle\n",
        "\n",
        "load_dir = \"/content/drive/MyDrive/TrainingModel\"\n",
        "\n",
        "# Load FAISS index\n",
        "index = faiss.read_index(os.path.join(load_dir, \"index.faiss\"))\n",
        "\n",
        "# Load chunks\n",
        "with open(os.path.join(load_dir, \"chunks.pkl\"), \"rb\") as f:\n",
        "    all_chunks = pickle.load(f)\n",
        "\n",
        "print(\"✅ Model and data successfully loaded.\")\n"
      ],
      "metadata": {
        "colab": {
          "base_uri": "https://localhost:8080/"
        },
        "id": "at7AX8XKlSAB",
        "outputId": "0a8ce23d-7db8-446b-8fef-e944617e3b57"
      },
      "execution_count": 35,
      "outputs": [
        {
          "output_type": "stream",
          "name": "stdout",
          "text": [
            "Drive already mounted at /content/drive; to attempt to forcibly remount, call drive.mount(\"/content/drive\", force_remount=True).\n",
            "✅ Model and data successfully loaded.\n"
          ]
        }
      ]
    },
    {
      "cell_type": "code",
      "source": [
        "import os\n",
        "import numpy as np\n",
        "import faiss\n",
        "import pickle\n",
        "\n",
        "save_dir = \"/content/drive/MyDrive/TrainingModel\"\n",
        "os.makedirs(save_dir, exist_ok=True)\n",
        "\n",
        "# Save FAISS index\n",
        "faiss.write_index(index, os.path.join(save_dir, \"index.faiss\"))\n",
        "\n",
        "# Save chunks\n",
        "with open(os.path.join(save_dir, \"chunks.pkl\"), \"wb\") as f:\n",
        "    pickle.dump(all_chunks, f)\n",
        "\n",
        "# Save raw embeddings\n",
        "np.save(os.path.join(save_dir, \"embeddings.npy\"), embeddings)\n",
        "\n",
        "print(f\"✅ FAISS index, chunks, and embeddings saved to {save_dir}\")\n",
        "\n"
      ],
      "metadata": {
        "colab": {
          "base_uri": "https://localhost:8080/"
        },
        "id": "v6izO06ileuU",
        "outputId": "eb24e599-4d04-4aba-8db0-eae9c714c95e"
      },
      "execution_count": 36,
      "outputs": [
        {
          "output_type": "stream",
          "name": "stdout",
          "text": [
            "✅ FAISS index, chunks, and embeddings saved to /content/drive/MyDrive/TrainingModel\n"
          ]
        }
      ]
    },
    {
      "cell_type": "code",
      "source": [
        "from google.colab import drive\n",
        "drive.mount('/content/drive')\n",
        "\n",
        "import numpy as np\n",
        "import faiss\n",
        "import pickle\n",
        "\n",
        "load_dir = \"/content/drive/MyDrive/TrainingModel\"\n",
        "\n",
        "# Load FAISS index\n",
        "index = faiss.read_index(os.path.join(load_dir, \"index.faiss\"))\n",
        "\n",
        "# Load chunks\n",
        "with open(os.path.join(load_dir, \"chunks.pkl\"), \"rb\") as f:\n",
        "    all_chunks = pickle.load(f)\n",
        "\n",
        "# Load raw embeddings\n",
        "embeddings = np.load(os.path.join(load_dir, \"embeddings.npy\"))\n",
        "\n",
        "print(f\"✅ Loaded {len(all_chunks)} chunks and embeddings with shape: {embeddings.shape}\")\n"
      ],
      "metadata": {
        "colab": {
          "base_uri": "https://localhost:8080/"
        },
        "id": "O-7ECbDoljKb",
        "outputId": "d5188dfb-f136-4c5e-d7d9-faf4571477e8"
      },
      "execution_count": 37,
      "outputs": [
        {
          "output_type": "stream",
          "name": "stdout",
          "text": [
            "Drive already mounted at /content/drive; to attempt to forcibly remount, call drive.mount(\"/content/drive\", force_remount=True).\n",
            "✅ Loaded 274 chunks and embeddings with shape: (274, 384)\n"
          ]
        }
      ]
    },
    {
      "cell_type": "code",
      "source": [
        "def precision_at_k(query, ground_truth_answer, k=5):\n",
        "    query_embedding = model.encode([query])\n",
        "    D, I = index.search(query_embedding, k)\n",
        "\n",
        "    retrieved_chunks = [all_chunks[i] for i in I[0]]\n",
        "    hits = sum(1 for chunk in retrieved_chunks if ground_truth_answer.lower() in chunk.lower())\n",
        "    return hits / k\n"
      ],
      "metadata": {
        "id": "XOeBHS7omvJk"
      },
      "execution_count": 38,
      "outputs": []
    },
    {
      "cell_type": "code",
      "source": [
        "import numpy as np\n",
        "import pickle\n",
        "import faiss\n",
        "from sentence_transformers import SentenceTransformer\n",
        "\n",
        "# STEP 1: Load saved artifacts from Google Drive\n",
        "embeddings_path = \"/content/drive/MyDrive/TrainingModel/embeddings.npy\"\n",
        "chunks_path = \"/content/drive/MyDrive/TrainingModel/chunks.pkl\"\n",
        "index_path = \"/content/drive/MyDrive/TrainingModel/index.faiss\"\n",
        "\n",
        "# Load chunks\n",
        "with open(chunks_path, 'rb') as f:\n",
        "    all_chunks = pickle.load(f)\n",
        "\n",
        "# Load embeddings\n",
        "embeddings = np.load(embeddings_path)\n",
        "\n",
        "# Load FAISS index\n",
        "dimension = embeddings.shape[1]\n",
        "index = faiss.IndexFlatL2(dimension)\n",
        "faiss.read_index(index_path)  # Or use: index = faiss.read_index(index_path)\n",
        "\n",
        "# Load embedding model\n",
        "model = SentenceTransformer('all-MiniLM-L6-v2')\n",
        "\n",
        "# STEP 2: Define precision@k evaluation\n",
        "def precision_at_k(query, ground_truth_answer, k=3):\n",
        "    query_embedding = model.encode([query])\n",
        "    D, I = index.search(query_embedding, k)\n",
        "\n",
        "    retrieved_chunks = [all_chunks[i] for i in I[0]]\n",
        "    print(\"🔍 Top Retrieved Chunks:\")\n",
        "    for chunk in retrieved_chunks:\n",
        "        print(\"-\", chunk[:300], \"...\\n\")  # Limit output length for readability\n",
        "\n",
        "    hits = sum(1 for chunk in retrieved_chunks if ground_truth_answer.lower() in chunk.lower())\n",
        "    precision = hits / k\n",
        "    return precision\n",
        "\n",
        "# STEP 3: Sample Evaluation\n",
        "query = \"Knee\"\n",
        "\n",
        "\n",
        "ground_truth = \"30-day grace period for premium payment\"\n",
        "\n",
        "score = precision_at_k(query, ground_truth, k=3)\n",
        "print(f\"\\n🎯 Precision@3: {score:.2f}\")\n"
      ],
      "metadata": {
        "colab": {
          "base_uri": "https://localhost:8080/"
        },
        "id": "c70SLvWqns-L",
        "outputId": "5bea439b-cfee-43f9-d821-bdde64e531be"
      },
      "execution_count": 39,
      "outputs": [
        {
          "output_type": "stream",
          "name": "stdout",
          "text": [
            "🔍 Top Retrieved Chunks:\n",
            "- Nagaland and Email: bimalokpal.mumbai@cioins.co.in (ASSAM). Tripura. Tel.: 0361 - 2632204 / 2602205 Email: bimalokpal.guwahati@cioins.co.in HYDERABAD Andhra Pradesh, Office of the Insurance Ombudsman, Telangana, Yanam 6-2-46, 1st floor, “Moin Court”, Lane Opp. and part of Union Saleem Function Palac ...\n",
            "\n",
            "- Nagaland and Email: bimalokpal.mumbai@cioins.co.in (ASSAM). Tripura. Tel.: 0361 - 2632204 / 2602205 Email: bimalokpal.guwahati@cioins.co.in HYDERABAD Andhra Pradesh, Office of the Insurance Ombudsman, Telangana, Yanam 6-2-46, 1st floor, “Moin Court”, Lane Opp. and part of Union Saleem Function Palac ...\n",
            "\n",
            "- Nagaland and Email: bimalokpal.mumbai@cioins.co.in (ASSAM). Tripura. Tel.: 0361 - 2632204 / 2602205 Email: bimalokpal.guwahati@cioins.co.in HYDERABAD Andhra Pradesh, Office of the Insurance Ombudsman, Telangana, Yanam 6-2-46, 1st floor, “Moin Court”, Lane Opp. and part of Union Saleem Function Palac ...\n",
            "\n",
            "\n",
            "🎯 Precision@3: 0.00\n"
          ]
        }
      ]
    },
    {
      "cell_type": "code",
      "source": [
        "for i, chunk in enumerate(all_chunks):\n",
        "    if \"grace period\" in chunk.lower():\n",
        "        print(f\"\\n🔎 Found keyword in chunk {i}: {chunk[:300]}...\\n\")\n"
      ],
      "metadata": {
        "colab": {
          "base_uri": "https://localhost:8080/"
        },
        "id": "Y5bOVUeAq48M",
        "outputId": "a8fadec8-21d0-479c-d476-3aaf461c6136"
      },
      "execution_count": 41,
      "outputs": [
        {
          "output_type": "stream",
          "name": "stdout",
          "text": [
            "\n",
            "🔎 Found keyword in chunk 3: care in scope, duration, or intensity; iii. must have been prescribed by a Medical Practitioner; must conform to the professional standards widely accepted in international medical practice or by the medical community in India. Network Provider/ Hospital means Hospitals or health care providers enli...\n",
            "\n",
            "\n",
            "🔎 Found keyword in chunk 26: Carrier, Daily allowance in case of Hospitalization Sections. 21. Notice of charge: The Company shall not be bound to take notice or be affected by any notice of any trust, charge, lien, assignment or other dealing with or relating to this Policy, but the payment by the Company to the Insured /Insur...\n",
            "\n",
            "\n",
            "🔎 Found keyword in chunk 119: or a medical set -up with a Hospital and which has been registered with the local authorities, wherever applicable, and is under supervision of a registered and qualified Medical Practitioner AND must comply with all minimum criterion as under:- i. has qualified nursing staff under its employment; i...\n",
            "\n",
            "\n",
            "🔎 Found keyword in chunk 123: Company. 40. Reasonable and Customary Charges:- Reasonable and Customary Charges means the charges for services or supplies, which are the standard charges for the specific provider and consistent with the prevailing charges in the geographical area for identical or similar services, taking into acc...\n",
            "\n",
            "\n",
            "🔎 Found keyword in chunk 158: Bajaj Allianz General Insurance Co. Ltd. Bajaj Allianz House, Airport Road, Yerawada, Pune - 411 006. Reg. No.: 113 For more details, log on to: www.bajajallianz.com | E-mail: bagichelp@bajajallianz.co.in or Call at: Sales - 1800 209 0144 / Service - 1800 209 5858 (Toll Free No.) Issuing Office: GLO...\n",
            "\n",
            "\n",
            "🔎 Found keyword in chunk 159: at the time of renewal with all the accrued continuity benefits such as cumulative bonus, waiver of waiting period as per IRDAI guidelines, provided the Policy has been maintained without a break. 12. Moratorium Period After completion of eight continuous years under this Policy no look back to be a...\n",
            "\n",
            "\n",
            "🔎 Found keyword in chunk 189: and for a specified number of days/hours in case of hospital cash policies which will apply before any benefits are payable by the insurer. A deductible does not reduce the Sum Insured. Def. 14. Dental treatment means a treatment related to teeth or structures supporting teeth including examinations...\n",
            "\n",
            "\n",
            "🔎 Found keyword in chunk 192: Pre- Hospitalisation Medical Expenses means the medical expenses incurred during predefined number of days preceding the hospitalization of the Insured Person, provided that: i. Such Medical Expenses are incurred for the same condition for which the Insured Person’s Hospitalisation was required, and...\n",
            "\n",
            "\n",
            "🔎 Found keyword in chunk 209: from one or more insurers to indemnify treatment costs, the Insured Person shall have the right to require a settlement of his/her claim in terms of any of his/her policies. In all such cases the Insurer chosen by the Insured Person shall be obliged to settle the claim as long as the claim is within...\n",
            "\n",
            "\n",
            "🔎 Found keyword in chunk 212: Company, with prior approval of IRDAI, may revise or modify the terms of the Policy including the premium rates. The Insured Person shall be notified three months before the changes are effected. n. Withdrawal of Policy i. In the likelihood of this product being withdrawn in future, the Company will...\n",
            "\n",
            "\n",
            "🔎 Found keyword in chunk 213: No interest will be charged If the installment premium is not paid on due date v. In case of installment premium due not received within the Grace Period, the Policy will get cancelled vi. In the event of a claim, all subsequent premium installments shall immediately become due and payable vii. The ...\n",
            "\n",
            "\n",
            "🔎 Found keyword in chunk 227: treatment undergone by the insured in accordance medical/surgical/para-surgical treatment procedures with the policy terms and conditions, are directly made and interventions are carried out by AYUSH Medical to the network provider by the insurer to the extent pre- practitioner(s) comprising of any ...\n",
            "\n",
            "\n",
            "🔎 Found keyword in chunk 231: right accorded to health Qualified Nurse is a person who holds a valid insurance policyholders/proposers (including all registration from the Nursing Council of India or the members under family cover and members of group Nursing Council of any state in India. UIN : ICIHLIP22012V012223 3 CIN: L67200...\n",
            "\n",
            "\n",
            "🔎 Found keyword in chunk 239: has been 13. Cumulative Bonus/ Additional Sum Insured discharged from the Hospital are not payable under this Benefit. We will provide a Cumulative Bonus of 10% of the Annual Sum insured at the end of each Policy Year if the expiring 11. Air Ambulance Policy has been claim free and is continuously r...\n",
            "\n",
            "\n",
            "🔎 Found keyword in chunk 260: to forfeit the policy benefits on the ground of fraud, if port the entire policy along with all the members of the the insured person / beneficiary can prove that the family, if any, at least 45 days before, but not earlier misstatement was true to the best of his than 60 days from the policy renewa...\n",
            "\n",
            "\n",
            "🔎 Found keyword in chunk 261: of 30 days to maintain continuity of benefits admitted or has been lodged or any benefit has without break in policy. Coverage is not available been availed by the Insured person under the during the grace period. Policy. v. No loading shall apply on renewals based on b) The Company may cancel the P...\n",
            "\n",
            "\n",
            "🔎 Found keyword in chunk 262: commenced, such proportionate premium 13. Premium Payment in lnstalments (Wherever commensurate with the insurance coverage applicable) during such period; lf the insured person has opted for Payment of 16. Redressal of Grievances Premium on an instalment basis i.e. Half Yearly, ln case of any griev...\n",
            "\n"
          ]
        }
      ]
    },
    {
      "cell_type": "code",
      "source": [
        "eval_set = [\n",
        "    {\"query\": \"What is the grace period for premium payment?\", \"answer\": \"30-day grace period\"},\n",
        "    {\"query\": \"What are pre-existing conditions?\", \"answer\": \"Conditions that existed before the start of the policy\"},\n",
        "    {\"query\": \"What is the waiting period for maternity benefits?\", \"answer\": \"36 months\"},\n",
        "    ...\n",
        "]\n"
      ],
      "metadata": {
        "id": "XLrLCTEErYtV"
      },
      "execution_count": 46,
      "outputs": []
    },
    {
      "cell_type": "code",
      "source": [
        "def evaluate_precision(eval_set, k=3):\n",
        "    scores = []\n",
        "    for item in eval_set:\n",
        "        p = precision_at_k(item[\"query\"], item[\"answer\"], k)\n",
        "        scores.append(p)\n",
        "        print(f\"Query: {item['query']}\\nAnswer: {item['answer']}\\nPrecision@{k}: {p:.2f}\\n\")\n",
        "    avg = sum(scores) / len(scores)\n",
        "    print(f\"\\n📊 Average Precision@{k}: {avg:.2f}\")\n"
      ],
      "metadata": {
        "id": "6lBHZ_M_rb44"
      },
      "execution_count": 44,
      "outputs": []
    },
    {
      "cell_type": "code",
      "source": [
        "evaluate_precision(eval_set, k=3)\n"
      ],
      "metadata": {
        "colab": {
          "base_uri": "https://localhost:8080/",
          "height": 855
        },
        "id": "ccYmabTlrjpU",
        "outputId": "de2bf1ab-5649-49a0-96ef-7bdcf7e2e3fe"
      },
      "execution_count": 48,
      "outputs": [
        {
          "output_type": "stream",
          "name": "stdout",
          "text": [
            "🔍 Top Retrieved Chunks:\n",
            "- Nagaland and Email: bimalokpal.mumbai@cioins.co.in (ASSAM). Tripura. Tel.: 0361 - 2632204 / 2602205 Email: bimalokpal.guwahati@cioins.co.in HYDERABAD Andhra Pradesh, Office of the Insurance Ombudsman, Telangana, Yanam 6-2-46, 1st floor, “Moin Court”, Lane Opp. and part of Union Saleem Function Palac ...\n",
            "\n",
            "- Nagaland and Email: bimalokpal.mumbai@cioins.co.in (ASSAM). Tripura. Tel.: 0361 - 2632204 / 2602205 Email: bimalokpal.guwahati@cioins.co.in HYDERABAD Andhra Pradesh, Office of the Insurance Ombudsman, Telangana, Yanam 6-2-46, 1st floor, “Moin Court”, Lane Opp. and part of Union Saleem Function Palac ...\n",
            "\n",
            "- Nagaland and Email: bimalokpal.mumbai@cioins.co.in (ASSAM). Tripura. Tel.: 0361 - 2632204 / 2602205 Email: bimalokpal.guwahati@cioins.co.in HYDERABAD Andhra Pradesh, Office of the Insurance Ombudsman, Telangana, Yanam 6-2-46, 1st floor, “Moin Court”, Lane Opp. and part of Union Saleem Function Palac ...\n",
            "\n",
            "Query: What is the grace period for premium payment?\n",
            "Answer: 30-day grace period\n",
            "Precision@3: 0.00\n",
            "\n",
            "🔍 Top Retrieved Chunks:\n",
            "- Nagaland and Email: bimalokpal.mumbai@cioins.co.in (ASSAM). Tripura. Tel.: 0361 - 2632204 / 2602205 Email: bimalokpal.guwahati@cioins.co.in HYDERABAD Andhra Pradesh, Office of the Insurance Ombudsman, Telangana, Yanam 6-2-46, 1st floor, “Moin Court”, Lane Opp. and part of Union Saleem Function Palac ...\n",
            "\n",
            "- Nagaland and Email: bimalokpal.mumbai@cioins.co.in (ASSAM). Tripura. Tel.: 0361 - 2632204 / 2602205 Email: bimalokpal.guwahati@cioins.co.in HYDERABAD Andhra Pradesh, Office of the Insurance Ombudsman, Telangana, Yanam 6-2-46, 1st floor, “Moin Court”, Lane Opp. and part of Union Saleem Function Palac ...\n",
            "\n",
            "- Nagaland and Email: bimalokpal.mumbai@cioins.co.in (ASSAM). Tripura. Tel.: 0361 - 2632204 / 2602205 Email: bimalokpal.guwahati@cioins.co.in HYDERABAD Andhra Pradesh, Office of the Insurance Ombudsman, Telangana, Yanam 6-2-46, 1st floor, “Moin Court”, Lane Opp. and part of Union Saleem Function Palac ...\n",
            "\n",
            "Query: What are pre-existing conditions?\n",
            "Answer: Conditions that existed before the start of the policy\n",
            "Precision@3: 0.00\n",
            "\n",
            "🔍 Top Retrieved Chunks:\n",
            "- Nagaland and Email: bimalokpal.mumbai@cioins.co.in (ASSAM). Tripura. Tel.: 0361 - 2632204 / 2602205 Email: bimalokpal.guwahati@cioins.co.in HYDERABAD Andhra Pradesh, Office of the Insurance Ombudsman, Telangana, Yanam 6-2-46, 1st floor, “Moin Court”, Lane Opp. and part of Union Saleem Function Palac ...\n",
            "\n",
            "- Nagaland and Email: bimalokpal.mumbai@cioins.co.in (ASSAM). Tripura. Tel.: 0361 - 2632204 / 2602205 Email: bimalokpal.guwahati@cioins.co.in HYDERABAD Andhra Pradesh, Office of the Insurance Ombudsman, Telangana, Yanam 6-2-46, 1st floor, “Moin Court”, Lane Opp. and part of Union Saleem Function Palac ...\n",
            "\n",
            "- Nagaland and Email: bimalokpal.mumbai@cioins.co.in (ASSAM). Tripura. Tel.: 0361 - 2632204 / 2602205 Email: bimalokpal.guwahati@cioins.co.in HYDERABAD Andhra Pradesh, Office of the Insurance Ombudsman, Telangana, Yanam 6-2-46, 1st floor, “Moin Court”, Lane Opp. and part of Union Saleem Function Palac ...\n",
            "\n",
            "Query: What is the waiting period for maternity benefits?\n",
            "Answer: 36 months\n",
            "Precision@3: 0.00\n",
            "\n"
          ]
        },
        {
          "output_type": "error",
          "ename": "TypeError",
          "evalue": "'ellipsis' object is not subscriptable",
          "traceback": [
            "\u001b[0;31m---------------------------------------------------------------------------\u001b[0m",
            "\u001b[0;31mTypeError\u001b[0m                                 Traceback (most recent call last)",
            "\u001b[0;32m/tmp/ipython-input-48-3881284249.py\u001b[0m in \u001b[0;36m<cell line: 0>\u001b[0;34m()\u001b[0m\n\u001b[0;32m----> 1\u001b[0;31m \u001b[0mevaluate_precision\u001b[0m\u001b[0;34m(\u001b[0m\u001b[0meval_set\u001b[0m\u001b[0;34m,\u001b[0m \u001b[0mk\u001b[0m\u001b[0;34m=\u001b[0m\u001b[0;36m3\u001b[0m\u001b[0;34m)\u001b[0m\u001b[0;34m\u001b[0m\u001b[0;34m\u001b[0m\u001b[0m\n\u001b[0m",
            "\u001b[0;32m/tmp/ipython-input-44-2744725373.py\u001b[0m in \u001b[0;36mevaluate_precision\u001b[0;34m(eval_set, k)\u001b[0m\n\u001b[1;32m      2\u001b[0m     \u001b[0mscores\u001b[0m \u001b[0;34m=\u001b[0m \u001b[0;34m[\u001b[0m\u001b[0;34m]\u001b[0m\u001b[0;34m\u001b[0m\u001b[0;34m\u001b[0m\u001b[0m\n\u001b[1;32m      3\u001b[0m     \u001b[0;32mfor\u001b[0m \u001b[0mitem\u001b[0m \u001b[0;32min\u001b[0m \u001b[0meval_set\u001b[0m\u001b[0;34m:\u001b[0m\u001b[0;34m\u001b[0m\u001b[0;34m\u001b[0m\u001b[0m\n\u001b[0;32m----> 4\u001b[0;31m         \u001b[0mp\u001b[0m \u001b[0;34m=\u001b[0m \u001b[0mprecision_at_k\u001b[0m\u001b[0;34m(\u001b[0m\u001b[0mitem\u001b[0m\u001b[0;34m[\u001b[0m\u001b[0;34m\"query\"\u001b[0m\u001b[0;34m]\u001b[0m\u001b[0;34m,\u001b[0m \u001b[0mitem\u001b[0m\u001b[0;34m[\u001b[0m\u001b[0;34m\"answer\"\u001b[0m\u001b[0;34m]\u001b[0m\u001b[0;34m,\u001b[0m \u001b[0mk\u001b[0m\u001b[0;34m)\u001b[0m\u001b[0;34m\u001b[0m\u001b[0;34m\u001b[0m\u001b[0m\n\u001b[0m\u001b[1;32m      5\u001b[0m         \u001b[0mscores\u001b[0m\u001b[0;34m.\u001b[0m\u001b[0mappend\u001b[0m\u001b[0;34m(\u001b[0m\u001b[0mp\u001b[0m\u001b[0;34m)\u001b[0m\u001b[0;34m\u001b[0m\u001b[0;34m\u001b[0m\u001b[0m\n\u001b[1;32m      6\u001b[0m         \u001b[0mprint\u001b[0m\u001b[0;34m(\u001b[0m\u001b[0;34mf\"Query: {item['query']}\\nAnswer: {item['answer']}\\nPrecision@{k}: {p:.2f}\\n\"\u001b[0m\u001b[0;34m)\u001b[0m\u001b[0;34m\u001b[0m\u001b[0;34m\u001b[0m\u001b[0m\n",
            "\u001b[0;31mTypeError\u001b[0m: 'ellipsis' object is not subscriptable"
          ]
        }
      ]
    },
    {
      "cell_type": "code",
      "source": [
        "for i, chunk in enumerate(chunks[:5]):\n",
        "    print(f\"🔹 Chunk {i}: {chunk[:300]}...\\n\")\n"
      ],
      "metadata": {
        "colab": {
          "base_uri": "https://localhost:8080/"
        },
        "id": "qjOkkovkr9go",
        "outputId": "9a3c56c8-244d-4926-fc57-1c61ef3be8d3"
      },
      "execution_count": 49,
      "outputs": [
        {
          "output_type": "stream",
          "name": "stdout",
          "text": [
            "🔹 Chunk 0: For Buy/ Renew/ Service/ Claim related queries Log on to www.icicilombard.com or call 1800 2666 Golden Shield Policy Wording b. Preamble theatre where surgical procedures are to be carried out; This Policy has been issued on the basis of the Disclosure to information Norm, including the information ...\n",
            "\n",
            "🔹 Chunk 1: treatment undergone by the insured in accordance medical/surgical/para-surgical treatment procedures with the policy terms and conditions, are directly made and interventions are carried out by AYUSH Medical to the network provider by the insurer to the extent pre- practitioner(s) comprising of any ...\n",
            "\n",
            "🔹 Chunk 2: has qualified medical practitioner/s in charge 2010 or under enactments specified under the c. has fully equipped operation theatre of its own Schedule of Section 56(1) of the said Act Or comply where surgical procedures are carried out; with all minimum criteria as under: d. maintains daily records...\n",
            "\n",
            "🔹 Chunk 3: illness/disease/injury which in the normal course recovery. would require care and treatment at a hospital but is actually taken while confined at home under any of the b. Chronic condition - A chronic condition is defined following circumstances: as a disease, illness, or injury that has one or mor...\n",
            "\n",
            "🔹 Chunk 4: expenses for ICU bed, general medical Portability means the right accorded to an individual support services provided to any ICU patient including health insurance policyholder/proposers (including all monitoring devices, critical care nursing and intensivist members under family cover), to transfer...\n",
            "\n"
          ]
        }
      ]
    },
    {
      "cell_type": "code",
      "source": [
        "eval_set = [\n",
        "    {\n",
        "        \"query\": \"What is the grace period for premium payment?\",\n",
        "        \"answer\": \"30 days\",\n",
        "    },\n",
        "    {\n",
        "        \"query\": \"What is the waiting period for maternity benefits?\",\n",
        "        \"answer\": \"36 months\",\n",
        "    },\n",
        "    {\n",
        "        \"query\": \"What are pre-existing conditions?\",\n",
        "        \"answer\": \"Any disease or illness existing prior to the start of the policy\",\n",
        "    },\n",
        "    {\n",
        "        \"query\": \"What is portability in health insurance?\",\n",
        "        \"answer\": \"Right to transfer policy with continuity benefits\",\n",
        "    },\n",
        "]\n"
      ],
      "metadata": {
        "id": "RftL4_4asON2"
      },
      "execution_count": 50,
      "outputs": []
    },
    {
      "cell_type": "code",
      "source": [
        "evaluate_precision(eval_set, k=3)\n"
      ],
      "metadata": {
        "colab": {
          "base_uri": "https://localhost:8080/"
        },
        "id": "R6NZJIRAsSFk",
        "outputId": "30996648-3985-4643-b9be-70267d328869"
      },
      "execution_count": 51,
      "outputs": [
        {
          "output_type": "stream",
          "name": "stdout",
          "text": [
            "🔍 Top Retrieved Chunks:\n",
            "- Nagaland and Email: bimalokpal.mumbai@cioins.co.in (ASSAM). Tripura. Tel.: 0361 - 2632204 / 2602205 Email: bimalokpal.guwahati@cioins.co.in HYDERABAD Andhra Pradesh, Office of the Insurance Ombudsman, Telangana, Yanam 6-2-46, 1st floor, “Moin Court”, Lane Opp. and part of Union Saleem Function Palac ...\n",
            "\n",
            "- Nagaland and Email: bimalokpal.mumbai@cioins.co.in (ASSAM). Tripura. Tel.: 0361 - 2632204 / 2602205 Email: bimalokpal.guwahati@cioins.co.in HYDERABAD Andhra Pradesh, Office of the Insurance Ombudsman, Telangana, Yanam 6-2-46, 1st floor, “Moin Court”, Lane Opp. and part of Union Saleem Function Palac ...\n",
            "\n",
            "- Nagaland and Email: bimalokpal.mumbai@cioins.co.in (ASSAM). Tripura. Tel.: 0361 - 2632204 / 2602205 Email: bimalokpal.guwahati@cioins.co.in HYDERABAD Andhra Pradesh, Office of the Insurance Ombudsman, Telangana, Yanam 6-2-46, 1st floor, “Moin Court”, Lane Opp. and part of Union Saleem Function Palac ...\n",
            "\n",
            "Query: What is the grace period for premium payment?\n",
            "Answer: 30 days\n",
            "Precision@3: 0.00\n",
            "\n",
            "🔍 Top Retrieved Chunks:\n",
            "- Nagaland and Email: bimalokpal.mumbai@cioins.co.in (ASSAM). Tripura. Tel.: 0361 - 2632204 / 2602205 Email: bimalokpal.guwahati@cioins.co.in HYDERABAD Andhra Pradesh, Office of the Insurance Ombudsman, Telangana, Yanam 6-2-46, 1st floor, “Moin Court”, Lane Opp. and part of Union Saleem Function Palac ...\n",
            "\n",
            "- Nagaland and Email: bimalokpal.mumbai@cioins.co.in (ASSAM). Tripura. Tel.: 0361 - 2632204 / 2602205 Email: bimalokpal.guwahati@cioins.co.in HYDERABAD Andhra Pradesh, Office of the Insurance Ombudsman, Telangana, Yanam 6-2-46, 1st floor, “Moin Court”, Lane Opp. and part of Union Saleem Function Palac ...\n",
            "\n",
            "- Nagaland and Email: bimalokpal.mumbai@cioins.co.in (ASSAM). Tripura. Tel.: 0361 - 2632204 / 2602205 Email: bimalokpal.guwahati@cioins.co.in HYDERABAD Andhra Pradesh, Office of the Insurance Ombudsman, Telangana, Yanam 6-2-46, 1st floor, “Moin Court”, Lane Opp. and part of Union Saleem Function Palac ...\n",
            "\n",
            "Query: What is the waiting period for maternity benefits?\n",
            "Answer: 36 months\n",
            "Precision@3: 0.00\n",
            "\n",
            "🔍 Top Retrieved Chunks:\n",
            "- Nagaland and Email: bimalokpal.mumbai@cioins.co.in (ASSAM). Tripura. Tel.: 0361 - 2632204 / 2602205 Email: bimalokpal.guwahati@cioins.co.in HYDERABAD Andhra Pradesh, Office of the Insurance Ombudsman, Telangana, Yanam 6-2-46, 1st floor, “Moin Court”, Lane Opp. and part of Union Saleem Function Palac ...\n",
            "\n",
            "- Nagaland and Email: bimalokpal.mumbai@cioins.co.in (ASSAM). Tripura. Tel.: 0361 - 2632204 / 2602205 Email: bimalokpal.guwahati@cioins.co.in HYDERABAD Andhra Pradesh, Office of the Insurance Ombudsman, Telangana, Yanam 6-2-46, 1st floor, “Moin Court”, Lane Opp. and part of Union Saleem Function Palac ...\n",
            "\n",
            "- Nagaland and Email: bimalokpal.mumbai@cioins.co.in (ASSAM). Tripura. Tel.: 0361 - 2632204 / 2602205 Email: bimalokpal.guwahati@cioins.co.in HYDERABAD Andhra Pradesh, Office of the Insurance Ombudsman, Telangana, Yanam 6-2-46, 1st floor, “Moin Court”, Lane Opp. and part of Union Saleem Function Palac ...\n",
            "\n",
            "Query: What are pre-existing conditions?\n",
            "Answer: Any disease or illness existing prior to the start of the policy\n",
            "Precision@3: 0.00\n",
            "\n",
            "🔍 Top Retrieved Chunks:\n",
            "- Nagaland and Email: bimalokpal.mumbai@cioins.co.in (ASSAM). Tripura. Tel.: 0361 - 2632204 / 2602205 Email: bimalokpal.guwahati@cioins.co.in HYDERABAD Andhra Pradesh, Office of the Insurance Ombudsman, Telangana, Yanam 6-2-46, 1st floor, “Moin Court”, Lane Opp. and part of Union Saleem Function Palac ...\n",
            "\n",
            "- Nagaland and Email: bimalokpal.mumbai@cioins.co.in (ASSAM). Tripura. Tel.: 0361 - 2632204 / 2602205 Email: bimalokpal.guwahati@cioins.co.in HYDERABAD Andhra Pradesh, Office of the Insurance Ombudsman, Telangana, Yanam 6-2-46, 1st floor, “Moin Court”, Lane Opp. and part of Union Saleem Function Palac ...\n",
            "\n",
            "- Nagaland and Email: bimalokpal.mumbai@cioins.co.in (ASSAM). Tripura. Tel.: 0361 - 2632204 / 2602205 Email: bimalokpal.guwahati@cioins.co.in HYDERABAD Andhra Pradesh, Office of the Insurance Ombudsman, Telangana, Yanam 6-2-46, 1st floor, “Moin Court”, Lane Opp. and part of Union Saleem Function Palac ...\n",
            "\n",
            "Query: What is portability in health insurance?\n",
            "Answer: Right to transfer policy with continuity benefits\n",
            "Precision@3: 0.00\n",
            "\n",
            "\n",
            "📊 Average Precision@3: 0.00\n"
          ]
        }
      ]
    },
    {
      "cell_type": "code",
      "source": [
        "print(f\"Number of chunks: {len(chunks)}\")\n"
      ],
      "metadata": {
        "colab": {
          "base_uri": "https://localhost:8080/"
        },
        "id": "gHHoKdPssfQy",
        "outputId": "760f479f-589b-4154-91d1-ba34e1d480ba"
      },
      "execution_count": 52,
      "outputs": [
        {
          "output_type": "stream",
          "name": "stdout",
          "text": [
            "Number of chunks: 48\n"
          ]
        }
      ]
    },
    {
      "cell_type": "code",
      "source": [
        "from collections import Counter\n",
        "# chunk_texts = [c['content'] for c in chunks]\n",
        "duplicates = Counter(chunks).most_common()\n",
        "print(\"Top repeated chunks:\\n\", duplicates[:5])"
      ],
      "metadata": {
        "colab": {
          "base_uri": "https://localhost:8080/"
        },
        "id": "Tuk7LhZxsixd",
        "outputId": "a20c0160-dc50-403f-f4b3-232e6a7771e3"
      },
      "execution_count": 54,
      "outputs": [
        {
          "output_type": "stream",
          "name": "stdout",
          "text": [
            "Top repeated chunks:\n",
            " [('For Buy/ Renew/ Service/ Claim related queries Log on to www.icicilombard.com or call 1800 2666 Golden Shield Policy Wording b. Preamble theatre where surgical procedures are to be carried out; This Policy has been issued on the basis of the Disclosure to information Norm, including the information provided by iv. Maintaining daily records of the patients and Proposer in respect of the Insured Persons in the Proposal making them accessible to the insurance Form, any application for insurance cover in respect of any company’s authorized representative Insured Person and any other information or details AYUSH Day Care Centre means and includes submitted in relation to the Proposal Form. This Policy is a Community Health Centre (CHC), Primary Health contract of insurance between You and Us which is subject Centre (PHC), Dispensary, Clinic, Polyclinic or any such to the receipt of premium in full and accepted by Us in health centre which is registered with the local respect of the Insured Persons and the terms, conditions authorities, wherever applicable and having facilities and exclusions as specified in the Policy/ Policy Schedule / for carrying out treatment procedures and medical or Product Benefit Table of this Policy. surgical/para-surgical interventions or both under the c. Definitions supervision of registered AYUSH Medical Practitioner (s) on day care basis without in- patient services and For the purposes of this Policy, the terms specified below must comply with all the following criterion: shall have the meaning set forth wherever appearing/ specified in this Policy or related Extensions: a. Having qualified registered AYUSH Medical Practitioner(s) in charge; Where the context so requires, references to the singular shall also include references to the plural and references to b. Having dedicated AYUSH therapy sections as any gender shall include references to all genders. Further required and/or has equipped operation theatre any references to statutory enactment include subsequent where surgical procedures are to be carried out; changes to the same. c. Maintaining daily records of the patients and i. Standard definitions (Definitions whose wordings making them accessible to the insurance are specified by IRDAI) company’s authorized representative. Accident means a sudden, unforeseen and involuntary (Explanation: Medical practitioner referred in the event caused by external, visible and violent means. definition of “AYUSH Hospital” and “AYUSH day care center” shall carry the same meaning as defined in the Any one illness means continuous Period of illness and definition of “Medical practitioner” under chapter I of it includes relapse within 45 days from the date of last Guidelines) consultation with the Hospital/Nursing Home where treatment was taken. Cashless Facility means a facility extended by the insurer to the insured where the payments, of the costs Ayush Hospital is a healthcare facility wherein of treatment undergone by the insured in accordance medical/surgical/para-surgical treatment procedures with the policy terms and conditions, are directly made and interventions are carried out by AYUSH Medical to the network provider by the insurer to the extent pre- practitioner(s) comprising of any of the following: authorization approved. a. Central or', 1), (\"treatment undergone by the insured in accordance medical/surgical/para-surgical treatment procedures with the policy terms and conditions, are directly made and interventions are carried out by AYUSH Medical to the network provider by the insurer to the extent pre- practitioner(s) comprising of any of the following: authorization approved. a. Central or State government AYUSH hospital; or Condition Precedent shall mean a policy term or b. Teaching hospital attached to AYUSH college condition upon which the Insurer's liability under the recognized by the central government/Central policy is conditional upon. council of Indian medicine/ Central council for Congenital Anomaly refers to a condition(s) which is Homeopathy; or present since birth, and which is abnormal with c. AYUSH Hospital, standalone or co-located with in- reference to form, structure or position. patient healthcare facility of any recognized a. Internal Congenital Anomaly -Congenital anomaly system of medicine, registered with the local which is not in the visible and accessible parts of authorities, wherever applicable, and is under the the body supervision of a qualified registered AYUSH medical practitioner and must comply with the b. External Congenital Anomaly- Congenital following criterion: anomaly which is in the visible and accessible parts of the body i. Having at least 5 in-patient beds Co-payment means a cost sharing requirement under ii. Having qualified AYUSH medical practitioner a health insurance policy that provides that the in charge round the clock policyholder/insured/proposer will bear a specified iii. Having dedicated AYUSH therapy sections as percentage of the admissible claims amount. A co- required and/or has equipped operation payment does not reduce the Sum Insured. UIN : ICIHLIP22012V012223 1 CIN: L67200MH2000PLC129408 Golden Shield Cumulative Bonus shall mean any increase or addition Grace Period means the specified period of time in the Sum Insured granted by the insurer without an immediately following the premium due date during associated increase in premium. which a payment can be made to renew or continue a policy in force without loss of continuity benefits such Day care centre means any institution established for as waiting periods and coverage of Pre Existing day care treatment of illness and/or injuries or a Diseases. Coverage is not available for the period for medical setup with a hospital and which has been which no premium is received. registered with the local authorities, wherever applicable, and is under supervision of a registered and Hospital means any institution established for in- qualified medical practitioner AND must comply with patient care and day care treatment of illness and / or all minimum criterion as under :- injuries and which has been registered as a hospital a. has qualified nursing staff under its employment; with the local authorities under the Clinical Establishments (Registration and Regulations) Act b. has qualified medical practitioner/s in charge 2010 or under enactments specified under the c. has fully equipped operation theatre of its own Schedule of Section 56(1) of the said Act Or comply where surgical procedures are carried out; with all minimum criteria as under: d. maintains daily records of patients\", 1), ('has qualified medical practitioner/s in charge 2010 or under enactments specified under the c. has fully equipped operation theatre of its own Schedule of Section 56(1) of the said Act Or comply where surgical procedures are carried out; with all minimum criteria as under: d. maintains daily records of patients and will make a. has qualified nursing staff under its employment these accessible to the insurance company’s round the clock; authorized personnel b. has at least 10 inpatient beds, in those towns Day Care Treatment refers to medical treatment, and/ having a population of less than 10,00,000 and 15 or Surgical Procedure which is inpatient beds in all other places i. undertaken under General or Local Anesthesia in a c. has qualified medical practitioner(s) in charge Hospital/ Day care centre in less than 24 hrs round the clock; because of technological advancement, and d. has a fully equipped operation theatre of its own ii. which would have otherwise required a where surgical procedures are carried out hospitalisation of more than 24 hours. e. maintains daily records of patients and makes Treatment normally taken on an out-patient basis is these accessible to the Insurance company’s not included in the scope of this definition. authorized personnel. Deductible is a cost sharing requirement under a Hospitalisation means admission in a Hospital for a health insurance policy that provides that provides minimum period of 24 consecutive in-patient care that the insurer will not be liable for specified rupee hours except for specified Procedures/Treatments, amount in case of indemnity policies and for a specified where such admission could be for a period of less than number of days/hours in case of hospital cash policies, 24 consecutive hours. which will apply before any benefits are payable by the insurer A deductible does not reduce the sum insured. Inpatient care means treatment for which the insured person has to stay in a Hospital for more than 24 hours Dental treatment means a treatment related to teeth for a covered event. or structures supporting teeth including examinations, fillings (where appropriate), crowns, extractions and Illness means a sickness or disease or pathological surgery. condition leading to the impairment of normal physiological function and requires medical treatment. Disclosure to information Norm means the policy shall be void and all premium paid thereon shall be forfeited a. Acute condition - Acute condition is a disease, to the Company in the event of misrepresentation, mis- illness or injury that is likely to respond quickly to description or non-disclosure of any material fact. treatment which aims to return the person to his or her state of health immediately before suffering Domiciliary Hospitalisation means medical treatment the disease/illness/injury which leads to full for an illness/disease/injury which in the normal course recovery. would require care and treatment at a hospital but is actually taken while confined at home under any of the b. Chronic condition - A chronic condition is defined following circumstances: as a disease, illness, or injury that has one or more a.', 1), ('illness/disease/injury which in the normal course recovery. would require care and treatment at a hospital but is actually taken while confined at home under any of the b. Chronic condition - A chronic condition is defined following circumstances: as a disease, illness, or injury that has one or more a. the condition of the patient is such that he/she is of the following characteristics: not in a condition to be removed to a hospital, or i. it needs ongoing or long-term monitoring b. the patient takes treatment at home on account of through consultations, examinations, check- non-availability of room in a hospital. ups, and / or tests Emergency Care means management for an illness or ii. it needs ongoing or long-term control or relief injury which results in symptoms which occur suddenly of symptoms and unexpectedly, and requires immediate care by a iii. it requires your rehabilitation for the patient or medical practitioner to prevent death or serious long for the patient to be specially trained to cope term impairment of the insured person’s health with it UIN : ICIHLIP22012V012223 2 CIN: L67200MH2000PLC129408 Golden Shield iv. it continues indefinitely Health insurance policy), to transfer the credit gained for pre-existing conditions and time bound exclusions, v. It recurs or is likely to recur with the same insurer. Injury means any accidental physical bodily harm, Network Provider means hospitals or health care excluding illness or disease solely and directly caused providers enlisted by an insurer, TPA or jointly by an by external, violent, visible and evident means which is insurer and TPA to provide medical services to an verified and certified by a Medical Practitioner. insured by a cashless facility. Intensive Care Unit means an identified section, ward Non-Network Provider means any Hospital, day care or wing of a hospital which is under the constant centre or other provider that is not part of the Network. supervision of a dedicated medical practitioner(s), and which is specially equipped for the continuous Notification of claim means the process of intimating a monitoring and treatment of patients who are in a claim to the insurer or TPA through any of the critical condition, or require life support facilities and recognized modes of communication where the level of care and supervision is considerably OPD treatment is one in which the Insured visits a more sophisticated and intensive than in the ordinary clinic / hospital or associated facility like a consultation and other wards room for diagnosis and treatment based on the advice ICU (Intensive Care Unit) Charges means the amount of a Medical Practitioner. The Insured is not admitted as charged by a Hospital towards ICU expenses which a day care or in-patient. shall include the expenses for ICU bed, general medical Portability means the right accorded to an individual support services provided to any ICU patient including health insurance policyholder/proposers (including all monitoring devices, critical care nursing and intensivist members under family cover), to transfer the credit charges. gained for pre-existing conditions and time bound', 1), ('expenses for ICU bed, general medical Portability means the right accorded to an individual support services provided to any ICU patient including health insurance policyholder/proposers (including all monitoring devices, critical care nursing and intensivist members under family cover), to transfer the credit charges. gained for pre-existing conditions and time bound Maternity expenses means; exclusions, from one insurer to another insurer a. medical treatment expenses traceable to childbirth Pre-existing Disease means any condition, ailment, (including complicated deliveries and caesarean injury or disease sections incurred during Hospitalisation); a. That is/ are diagnosed by a physician within 48 b. expenses towards lawful medical termination of months prior to the effective date of the policy pregnancy during the policy period. issued by the insurer or its reinstatement or Medical Advice means any consultation or advice from b. For which medical advice or treatment was a Medical Practitioner including the issuance of any recommended by, or received from, a physician prescription or follow-up prescription. within 48 months prior to the effective date of the policy issued by the insurer or its reinstatement. Medical Expenses means those expenses that an Insured Person has necessarily and actually incurred Post-Hospitalisation Medical Expenses means for medical treatment on account of Illness or Accident medical expenses incurred during predefined number on the advice of a Medical Practitioner, as long as these of days immediately after the Insured Person is are no more than would have been payable if the discharged from the hospital, provided that : Insured Person had not been insured and no more than a. Such Medical Expenses are for the same condition other hospitals or doctors in the same locality would for which the Insured Person’s Hospitalisation was have charged for the same medical treatment. required, and Medically Necessary Treatment is defined as any b. The In-patient Hospitalisation claim for such treatment, tests medication or stay in hospital or part Hospitalisation is admissible by the Insurance of a stay in Hospital which Company. 1. Is required for the medical management of the Pre-Hospitalisation Medical Expenses means illness or Injury suffered by the insured medical expenses incurred during predefined number 2. Must not exceed the level of care necessary to of days preceding the hospitalization of the insured provide safe, adequate and appropriate medical person, provided that: care in scope, duration or intensity a. Such Medical Expenses are incurred for the same 3. Must have been prescribed by a Medical condition for which the Insured Person’s practitioner Hospitalisation was required, and 4. Must conform to the professional standard widely b. The In-patient Hospitalisation claim for such accepted in international medical practice or by the Hospitalisation is admissible by the Insurance medical community in India Company. Migration means the right accorded to health Qualified Nurse is a person who holds a valid insurance policyholders/proposers (including all registration from the Nursing Council of India or the members under family cover and members of group Nursing Council of any state in India. UIN : ICIHLIP22012V012223 3 CIN: L67200MH2000PLC129408 Golden Shield Reasonable', 1)]\n"
          ]
        }
      ]
    },
    {
      "cell_type": "code",
      "source": [
        "print(f\"Embeddings shape: {embeddings.shape}\")\n"
      ],
      "metadata": {
        "colab": {
          "base_uri": "https://localhost:8080/"
        },
        "id": "OOMwzlr4tBY-",
        "outputId": "d8e5f520-c4b7-4d41-94c9-2d08998e3e93"
      },
      "execution_count": 55,
      "outputs": [
        {
          "output_type": "stream",
          "name": "stdout",
          "text": [
            "Embeddings shape: (274, 384)\n"
          ]
        }
      ]
    },
    {
      "cell_type": "code",
      "source": [
        "from sklearn.metrics.pairwise import cosine_similarity\n",
        "query_embedding = embed_model.encode([\"What is the grace period for premium payment?\"])[0]\n",
        "\n",
        "# Compute cosine similarity\n",
        "sims = cosine_similarity([query_embedding], embeddings)[0]\n",
        "top_k = sims.argsort()[-5:][::-1]\n",
        "\n",
        "for i in top_k:\n",
        "    print(f\"Similarity: {sims[i]:.4f} | Chunk: {all_chunks[i][:200]}...\")"
      ],
      "metadata": {
        "colab": {
          "base_uri": "https://localhost:8080/"
        },
        "id": "p4xdPO7xtBQK",
        "outputId": "57a5063e-1613-44a8-c1c3-3ece8378ba02"
      },
      "execution_count": 57,
      "outputs": [
        {
          "output_type": "stream",
          "name": "stdout",
          "text": [
            "Similarity: 0.6405 | Chunk: at the time of renewal with all the accrued continuity benefits such as cumulative bonus, waiver of waiting period as per IRDAI guidelines, provided the Policy has been maintained without a break. 12....\n",
            "Similarity: 0.6207 | Chunk: No interest will be charged If the installment premium is not paid on due date v. In case of installment premium due not received within the Grace Period, the Policy will get cancelled vi. In the even...\n",
            "Similarity: 0.5480 | Chunk: commenced, such proportionate premium 13. Premium Payment in lnstalments (Wherever commensurate with the insurance coverage applicable) during such period; lf the insured person has opted for Payment ...\n",
            "Similarity: 0.5241 | Chunk: the insured person, is in any Company, it shall initiate and complete such respect fraudulent, or if any false statement, or investigation at the earliest, in any case not declaration is made or used ...\n",
            "Similarity: 0.5089 | Chunk: any kind/bamboo/plastic cloth/asphalt/canvas/tarpaulin and the like. Word /s Specific meaning Policy Period Policy period means the period commencing from the effective date and time as shown in the P...\n"
          ]
        }
      ]
    },
    {
      "cell_type": "code",
      "source": [
        "# Define your query and expected relevant substrings\n",
        "query = \"What is the grace period for premium payment?\"\n",
        "expected_keywords = [\"grace period\", \"premium due\", \"installment\", \"policy cancelled\", \"waiver\"]\n",
        "\n",
        "# Check how many of the top_k retrieved chunks contain expected keywords\n",
        "relevant = 0\n",
        "for i in top_k:\n",
        "    content = all_chunks[i].lower()\n",
        "    if any(keyword in content for keyword in expected_keywords):\n",
        "        relevant += 1\n",
        "\n",
        "precision_at_k = relevant / len(top_k)\n",
        "print(f\"Precision@{len(top_k)}: {precision_at_k:.2f}\")\n"
      ],
      "metadata": {
        "colab": {
          "base_uri": "https://localhost:8080/"
        },
        "id": "VeF7Cce9tpHH",
        "outputId": "8cadda78-0d99-4aa8-a9e5-0eafe1f6b2ef"
      },
      "execution_count": 60,
      "outputs": [
        {
          "output_type": "stream",
          "name": "stdout",
          "text": [
            "Precision@5: 0.60\n"
          ]
        }
      ]
    }
  ]
}