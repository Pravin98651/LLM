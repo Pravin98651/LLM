{
 "cells": [
  {
   "cell_type": "code",
   "execution_count": 9,
   "id": "1b2fb473",
   "metadata": {},
   "outputs": [],
   "source": [
    "from typing_extensions import TypedDict #Used to represent Data in the form of a dictionary inside a class\n",
    "class state(TypedDict): \n",
    "    graph_info:str"
   ]
  },
  {
   "cell_type": "code",
   "execution_count": 10,
   "id": "b43a5f1c",
   "metadata": {},
   "outputs": [],
   "source": [
    "def start_play(state):\n",
    "    print(\"Start_play node has been called\")\n",
    "    return {\"graph_info\": state[\"graph_info\"]+\"I am planning to play a game.\"}\n",
    "\n",
    "def cricket(state):\n",
    "    print(\"Cricket node has been called\")\n",
    "    return {\"graph_info\": state[\"graph_info\"]+\"I am playing cricket.\"}\n",
    "\n",
    "def football(state):\n",
    "    print(\"Football node has been called\")\n",
    "    return {\"graph_info\": state[\"graph_info\"]+\"I am playing football.\"} \n",
    "\n",
    "def end_play(state):\n",
    "    print(\"End_play node has been called\")\n",
    "    return {\"graph_info\": state[\"graph_info\"]+\"I have finished playing the game.\"}"
   ]
  },
  {
   "cell_type": "code",
   "execution_count": 20,
   "id": "112c3378",
   "metadata": {},
   "outputs": [],
   "source": [
    "import random\n",
    "from typing import Literal\n",
    "\n",
    "def random_play(state: dict) -> Literal['cricket', 'football']:\n",
    "    graph_info = state['graph_info']\n",
    "\n",
    "    if random.random() > 0.5:\n",
    "        return \"cricket\"\n",
    "    else:\n",
    "        return \"football\"\n"
   ]
  },
  {
   "cell_type": "code",
   "execution_count": 21,
   "id": "55240a10",
   "metadata": {},
   "outputs": [
    {
     "data": {
      "image/png": "[encoded data removed]",
      "text/plain": [
       "<IPython.core.display.Image object>"
      ]
     },
     "metadata": {},
     "output_type": "display_data"
    }
   ],
   "source": [
    "from IPython.display import display, Image\n",
    "from langgraph.graph import StateGraph, START,END\n",
    "\n",
    "graph=StateGraph(state)\n",
    "\n",
    "graph.add_node(\"start_play\", start_play)\n",
    "graph.add_node( \"cricket\", cricket)\n",
    "graph.add_node(\"football\", football)  \n",
    "\n",
    "graph.add_edge(START, \"start_play\")\n",
    "graph.add_conditional_edges(\"start_play\", random_play)\n",
    "graph.add_edge(\"cricket\", END)\n",
    "graph.add_edge(\"football\", END)\n",
    "\n",
    "graph_builder= graph.compile()\n",
    "display(Image(graph_builder.get_graph().draw_mermaid_png()))\n"
   ]
  },
  {
   "cell_type": "code",
   "execution_count": 22,
   "id": "4de1e5d3",
   "metadata": {},
   "outputs": [
    {
     "name": "stdout",
     "output_type": "stream",
     "text": [
      "Start_play node has been called\n",
      "Football node has been called\n"
     ]
    },
    {
     "data": {
      "text/plain": [
       "{'graph_info': 'My name is PravinI am planning to play a game.I am playing football.'}"
      ]
     },
     "execution_count": 22,
     "metadata": {},
     "output_type": "execute_result"
    }
   ],
   "source": [
    "graph_builder.invoke({\"graph_info\": \"My name is Pravin\"})"
   ]
  },
  {
   "cell_type": "code",
   "execution_count": null,
   "id": "aea4d7da",
   "metadata": {},
   "outputs": [],
   "source": []
  }
 ],
 "metadata": {
  "kernelspec": {
   "display_name": "Python 3",
   "language": "python",
   "name": "python3"
  },
  "language_info": {
   "codemirror_mode": {
    "name": "ipython",
    "version": 3
   },
   "file_extension": ".py",
   "mimetype": "text/x-python",
   "name": "python",
   "nbconvert_exporter": "python",
   "pygments_lexer": "ipython3",
   "version": "3.12.0"
  }
 },
 "nbformat": 4,
 "nbformat_minor": 5
}
